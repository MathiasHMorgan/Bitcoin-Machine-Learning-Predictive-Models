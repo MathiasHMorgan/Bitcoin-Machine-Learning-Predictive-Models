{
 "cells": [
  {
   "cell_type": "markdown",
   "metadata": {},
   "source": [
    "### ARIMA\n",
    "\n",
    "ARIMA (AutoRegressive Integrated Moving Average) is a forecasting algorithm based on the idea that the information in the past values of the time series can alone be used to predict the future values.\n",
    "\n",
    "ARIMA models explain a time series based on its own past values, basically its own lags and the lagged forecast errors."
   ]
  },
  {
   "cell_type": "code",
   "execution_count": 20,
   "metadata": {},
   "outputs": [
    {
     "data": {
      "application/javascript": "\n            setTimeout(function() {\n                var nbb_cell_id = 20;\n                var nbb_unformatted_code = \"#Import Dependancies\\nfrom pmdarima.arima import auto_arima\\nfrom IPython.core.debugger import set_trace\\nimport pandas as pd\\nimport numpy as np\\nimport os\\nimport matplotlib.pyplot as plt\\nimport time\\nplt.style.use(style=\\\"seaborn\\\")\\n%matplotlib inline\\n%reload_ext nb_black\";\n                var nbb_formatted_code = \"# Import Dependancies\\nfrom pmdarima.arima import auto_arima\\nfrom IPython.core.debugger import set_trace\\nimport pandas as pd\\nimport numpy as np\\nimport os\\nimport matplotlib.pyplot as plt\\nimport time\\n\\nplt.style.use(style=\\\"seaborn\\\")\\n%matplotlib inline\\n%reload_ext nb_black\";\n                var nbb_cells = Jupyter.notebook.get_cells();\n                for (var i = 0; i < nbb_cells.length; ++i) {\n                    if (nbb_cells[i].input_prompt_number == nbb_cell_id) {\n                        if (nbb_cells[i].get_text() == nbb_unformatted_code) {\n                             nbb_cells[i].set_text(nbb_formatted_code);\n                        }\n                        break;\n                    }\n                }\n            }, 500);\n            ",
      "text/plain": [
       "<IPython.core.display.Javascript object>"
      ]
     },
     "metadata": {},
     "output_type": "display_data"
    },
    {
     "data": {
      "application/javascript": "\n            setTimeout(function() {\n                var nbb_cell_id = 20;\n                var nbb_unformatted_code = \"#Import Dependancies\\nfrom pmdarima.arima import auto_arima\\nfrom IPython.core.debugger import set_trace\\nimport pandas as pd\\nimport numpy as np\\nimport os\\nimport matplotlib.pyplot as plt\\nimport time\\nplt.style.use(style=\\\"seaborn\\\")\\n%matplotlib inline\\n%reload_ext nb_black\";\n                var nbb_formatted_code = \"# Import Dependancies\\nfrom pmdarima.arima import auto_arima\\nfrom IPython.core.debugger import set_trace\\nimport pandas as pd\\nimport numpy as np\\nimport os\\nimport matplotlib.pyplot as plt\\nimport time\\n\\nplt.style.use(style=\\\"seaborn\\\")\\n%matplotlib inline\\n%reload_ext nb_black\";\n                var nbb_cells = Jupyter.notebook.get_cells();\n                for (var i = 0; i < nbb_cells.length; ++i) {\n                    if (nbb_cells[i].input_prompt_number == nbb_cell_id) {\n                        if (nbb_cells[i].get_text() == nbb_unformatted_code) {\n                             nbb_cells[i].set_text(nbb_formatted_code);\n                        }\n                        break;\n                    }\n                }\n            }, 500);\n            ",
      "text/plain": [
       "<IPython.core.display.Javascript object>"
      ]
     },
     "metadata": {},
     "output_type": "display_data"
    },
    {
     "data": {
      "application/javascript": "\n            setTimeout(function() {\n                var nbb_cell_id = 20;\n                var nbb_unformatted_code = \"#Import Dependancies\\nfrom pmdarima.arima import auto_arima\\nfrom IPython.core.debugger import set_trace\\nimport pandas as pd\\nimport numpy as np\\nimport os\\nimport matplotlib.pyplot as plt\\nimport time\\nplt.style.use(style=\\\"seaborn\\\")\\n%matplotlib inline\\n%reload_ext nb_black\";\n                var nbb_formatted_code = \"# Import Dependancies\\nfrom pmdarima.arima import auto_arima\\nfrom IPython.core.debugger import set_trace\\nimport pandas as pd\\nimport numpy as np\\nimport os\\nimport matplotlib.pyplot as plt\\nimport time\\n\\nplt.style.use(style=\\\"seaborn\\\")\\n%matplotlib inline\\n%reload_ext nb_black\";\n                var nbb_cells = Jupyter.notebook.get_cells();\n                for (var i = 0; i < nbb_cells.length; ++i) {\n                    if (nbb_cells[i].input_prompt_number == nbb_cell_id) {\n                        if (nbb_cells[i].get_text() == nbb_unformatted_code) {\n                             nbb_cells[i].set_text(nbb_formatted_code);\n                        }\n                        break;\n                    }\n                }\n            }, 500);\n            ",
      "text/plain": [
       "<IPython.core.display.Javascript object>"
      ]
     },
     "metadata": {},
     "output_type": "display_data"
    },
    {
     "data": {
      "application/javascript": "\n            setTimeout(function() {\n                var nbb_cell_id = 20;\n                var nbb_unformatted_code = \"#Import Dependancies\\nfrom pmdarima.arima import auto_arima\\nfrom IPython.core.debugger import set_trace\\nimport pandas as pd\\nimport numpy as np\\nimport os\\nimport matplotlib.pyplot as plt\\nimport time\\nplt.style.use(style=\\\"seaborn\\\")\\n%matplotlib inline\\n%reload_ext nb_black\";\n                var nbb_formatted_code = \"# Import Dependancies\\nfrom pmdarima.arima import auto_arima\\nfrom IPython.core.debugger import set_trace\\nimport pandas as pd\\nimport numpy as np\\nimport os\\nimport matplotlib.pyplot as plt\\nimport time\\n\\nplt.style.use(style=\\\"seaborn\\\")\\n%matplotlib inline\\n%reload_ext nb_black\";\n                var nbb_cells = Jupyter.notebook.get_cells();\n                for (var i = 0; i < nbb_cells.length; ++i) {\n                    if (nbb_cells[i].input_prompt_number == nbb_cell_id) {\n                        if (nbb_cells[i].get_text() == nbb_unformatted_code) {\n                             nbb_cells[i].set_text(nbb_formatted_code);\n                        }\n                        break;\n                    }\n                }\n            }, 500);\n            ",
      "text/plain": [
       "<IPython.core.display.Javascript object>"
      ]
     },
     "metadata": {},
     "output_type": "display_data"
    }
   ],
   "source": [
    "#Import Dependancies\n",
    "from pmdarima.arima import auto_arima\n",
    "from IPython.core.debugger import set_trace\n",
    "import pandas as pd\n",
    "import numpy as np\n",
    "import os\n",
    "import matplotlib.pyplot as plt\n",
    "import time\n",
    "plt.style.use(style=\"seaborn\")\n",
    "%matplotlib inline\n",
    "%reload_ext nb_black"
   ]
  },
  {
   "cell_type": "code",
   "execution_count": 21,
   "metadata": {},
   "outputs": [
    {
     "data": {
      "text/html": [
       "<div>\n",
       "<style scoped>\n",
       "    .dataframe tbody tr th:only-of-type {\n",
       "        vertical-align: middle;\n",
       "    }\n",
       "\n",
       "    .dataframe tbody tr th {\n",
       "        vertical-align: top;\n",
       "    }\n",
       "\n",
       "    .dataframe thead th {\n",
       "        text-align: right;\n",
       "    }\n",
       "</style>\n",
       "<table border=\"1\" class=\"dataframe\">\n",
       "  <thead>\n",
       "    <tr style=\"text-align: right;\">\n",
       "      <th></th>\n",
       "      <th>Unnamed: 0</th>\n",
       "      <th>Date</th>\n",
       "      <th>Close</th>\n",
       "    </tr>\n",
       "  </thead>\n",
       "  <tbody>\n",
       "    <tr>\n",
       "      <th>0</th>\n",
       "      <td>999</td>\n",
       "      <td>2019-02-15</td>\n",
       "      <td>3602.47</td>\n",
       "    </tr>\n",
       "    <tr>\n",
       "      <th>1</th>\n",
       "      <td>998</td>\n",
       "      <td>2019-02-16</td>\n",
       "      <td>3618.41</td>\n",
       "    </tr>\n",
       "    <tr>\n",
       "      <th>2</th>\n",
       "      <td>997</td>\n",
       "      <td>2019-02-17</td>\n",
       "      <td>3667.58</td>\n",
       "    </tr>\n",
       "    <tr>\n",
       "      <th>3</th>\n",
       "      <td>996</td>\n",
       "      <td>2019-02-18</td>\n",
       "      <td>3898.60</td>\n",
       "    </tr>\n",
       "    <tr>\n",
       "      <th>4</th>\n",
       "      <td>995</td>\n",
       "      <td>2019-02-19</td>\n",
       "      <td>3907.79</td>\n",
       "    </tr>\n",
       "  </tbody>\n",
       "</table>\n",
       "</div>"
      ],
      "text/plain": [
       "   Unnamed: 0        Date    Close\n",
       "0         999  2019-02-15  3602.47\n",
       "1         998  2019-02-16  3618.41\n",
       "2         997  2019-02-17  3667.58\n",
       "3         996  2019-02-18  3898.60\n",
       "4         995  2019-02-19  3907.79"
      ]
     },
     "execution_count": 21,
     "metadata": {},
     "output_type": "execute_result"
    },
    {
     "data": {
      "application/javascript": "\n            setTimeout(function() {\n                var nbb_cell_id = 21;\n                var nbb_unformatted_code = \"df = pd.read_csv(\\\"data/BTC_Daily_Final.csv\\\")\\ndf.head(5)\";\n                var nbb_formatted_code = \"df = pd.read_csv(\\\"data/BTC_Daily_Final.csv\\\")\\ndf.head(5)\";\n                var nbb_cells = Jupyter.notebook.get_cells();\n                for (var i = 0; i < nbb_cells.length; ++i) {\n                    if (nbb_cells[i].input_prompt_number == nbb_cell_id) {\n                        if (nbb_cells[i].get_text() == nbb_unformatted_code) {\n                             nbb_cells[i].set_text(nbb_formatted_code);\n                        }\n                        break;\n                    }\n                }\n            }, 500);\n            ",
      "text/plain": [
       "<IPython.core.display.Javascript object>"
      ]
     },
     "metadata": {},
     "output_type": "display_data"
    },
    {
     "data": {
      "application/javascript": "\n            setTimeout(function() {\n                var nbb_cell_id = 21;\n                var nbb_unformatted_code = \"df = pd.read_csv(\\\"data/BTC_Daily_Final.csv\\\")\\ndf.head(5)\";\n                var nbb_formatted_code = \"df = pd.read_csv(\\\"data/BTC_Daily_Final.csv\\\")\\ndf.head(5)\";\n                var nbb_cells = Jupyter.notebook.get_cells();\n                for (var i = 0; i < nbb_cells.length; ++i) {\n                    if (nbb_cells[i].input_prompt_number == nbb_cell_id) {\n                        if (nbb_cells[i].get_text() == nbb_unformatted_code) {\n                             nbb_cells[i].set_text(nbb_formatted_code);\n                        }\n                        break;\n                    }\n                }\n            }, 500);\n            ",
      "text/plain": [
       "<IPython.core.display.Javascript object>"
      ]
     },
     "metadata": {},
     "output_type": "display_data"
    },
    {
     "data": {
      "application/javascript": "\n            setTimeout(function() {\n                var nbb_cell_id = 21;\n                var nbb_unformatted_code = \"df = pd.read_csv(\\\"data/BTC_Daily_Final.csv\\\")\\ndf.head(5)\";\n                var nbb_formatted_code = \"df = pd.read_csv(\\\"data/BTC_Daily_Final.csv\\\")\\ndf.head(5)\";\n                var nbb_cells = Jupyter.notebook.get_cells();\n                for (var i = 0; i < nbb_cells.length; ++i) {\n                    if (nbb_cells[i].input_prompt_number == nbb_cell_id) {\n                        if (nbb_cells[i].get_text() == nbb_unformatted_code) {\n                             nbb_cells[i].set_text(nbb_formatted_code);\n                        }\n                        break;\n                    }\n                }\n            }, 500);\n            ",
      "text/plain": [
       "<IPython.core.display.Javascript object>"
      ]
     },
     "metadata": {},
     "output_type": "display_data"
    },
    {
     "data": {
      "application/javascript": "\n            setTimeout(function() {\n                var nbb_cell_id = 21;\n                var nbb_unformatted_code = \"df = pd.read_csv(\\\"data/BTC_Daily_Final.csv\\\")\\ndf.head(5)\";\n                var nbb_formatted_code = \"df = pd.read_csv(\\\"data/BTC_Daily_Final.csv\\\")\\ndf.head(5)\";\n                var nbb_cells = Jupyter.notebook.get_cells();\n                for (var i = 0; i < nbb_cells.length; ++i) {\n                    if (nbb_cells[i].input_prompt_number == nbb_cell_id) {\n                        if (nbb_cells[i].get_text() == nbb_unformatted_code) {\n                             nbb_cells[i].set_text(nbb_formatted_code);\n                        }\n                        break;\n                    }\n                }\n            }, 500);\n            ",
      "text/plain": [
       "<IPython.core.display.Javascript object>"
      ]
     },
     "metadata": {},
     "output_type": "display_data"
    }
   ],
   "source": [
    "df = pd.read_csv(\"data/BTC_Daily_Final.csv\")\n",
    "df.head(5)"
   ]
  },
  {
   "cell_type": "code",
   "execution_count": 22,
   "metadata": {},
   "outputs": [
    {
     "data": {
      "text/html": [
       "<div>\n",
       "<style scoped>\n",
       "    .dataframe tbody tr th:only-of-type {\n",
       "        vertical-align: middle;\n",
       "    }\n",
       "\n",
       "    .dataframe tbody tr th {\n",
       "        vertical-align: top;\n",
       "    }\n",
       "\n",
       "    .dataframe thead th {\n",
       "        text-align: right;\n",
       "    }\n",
       "</style>\n",
       "<table border=\"1\" class=\"dataframe\">\n",
       "  <thead>\n",
       "    <tr style=\"text-align: right;\">\n",
       "      <th></th>\n",
       "      <th>Close</th>\n",
       "    </tr>\n",
       "  </thead>\n",
       "  <tbody>\n",
       "    <tr>\n",
       "      <th>count</th>\n",
       "      <td>1000.000000</td>\n",
       "    </tr>\n",
       "    <tr>\n",
       "      <th>mean</th>\n",
       "      <td>21180.827600</td>\n",
       "    </tr>\n",
       "    <tr>\n",
       "      <th>std</th>\n",
       "      <td>18286.852527</td>\n",
       "    </tr>\n",
       "    <tr>\n",
       "      <th>min</th>\n",
       "      <td>3602.470000</td>\n",
       "    </tr>\n",
       "    <tr>\n",
       "      <th>25%</th>\n",
       "      <td>8423.667500</td>\n",
       "    </tr>\n",
       "    <tr>\n",
       "      <th>50%</th>\n",
       "      <td>10535.835000</td>\n",
       "    </tr>\n",
       "    <tr>\n",
       "      <th>75%</th>\n",
       "      <td>35646.825000</td>\n",
       "    </tr>\n",
       "    <tr>\n",
       "      <th>max</th>\n",
       "      <td>67525.830000</td>\n",
       "    </tr>\n",
       "  </tbody>\n",
       "</table>\n",
       "</div>"
      ],
      "text/plain": [
       "              Close\n",
       "count   1000.000000\n",
       "mean   21180.827600\n",
       "std    18286.852527\n",
       "min     3602.470000\n",
       "25%     8423.667500\n",
       "50%    10535.835000\n",
       "75%    35646.825000\n",
       "max    67525.830000"
      ]
     },
     "execution_count": 22,
     "metadata": {},
     "output_type": "execute_result"
    },
    {
     "data": {
      "application/javascript": "\n            setTimeout(function() {\n                var nbb_cell_id = 22;\n                var nbb_unformatted_code = \"df = df[[\\\"Close\\\"]].copy()\\ndf.describe()\";\n                var nbb_formatted_code = \"df = df[[\\\"Close\\\"]].copy()\\ndf.describe()\";\n                var nbb_cells = Jupyter.notebook.get_cells();\n                for (var i = 0; i < nbb_cells.length; ++i) {\n                    if (nbb_cells[i].input_prompt_number == nbb_cell_id) {\n                        if (nbb_cells[i].get_text() == nbb_unformatted_code) {\n                             nbb_cells[i].set_text(nbb_formatted_code);\n                        }\n                        break;\n                    }\n                }\n            }, 500);\n            ",
      "text/plain": [
       "<IPython.core.display.Javascript object>"
      ]
     },
     "metadata": {},
     "output_type": "display_data"
    },
    {
     "data": {
      "application/javascript": "\n            setTimeout(function() {\n                var nbb_cell_id = 22;\n                var nbb_unformatted_code = \"df = df[[\\\"Close\\\"]].copy()\\ndf.describe()\";\n                var nbb_formatted_code = \"df = df[[\\\"Close\\\"]].copy()\\ndf.describe()\";\n                var nbb_cells = Jupyter.notebook.get_cells();\n                for (var i = 0; i < nbb_cells.length; ++i) {\n                    if (nbb_cells[i].input_prompt_number == nbb_cell_id) {\n                        if (nbb_cells[i].get_text() == nbb_unformatted_code) {\n                             nbb_cells[i].set_text(nbb_formatted_code);\n                        }\n                        break;\n                    }\n                }\n            }, 500);\n            ",
      "text/plain": [
       "<IPython.core.display.Javascript object>"
      ]
     },
     "metadata": {},
     "output_type": "display_data"
    },
    {
     "data": {
      "application/javascript": "\n            setTimeout(function() {\n                var nbb_cell_id = 22;\n                var nbb_unformatted_code = \"df = df[[\\\"Close\\\"]].copy()\\ndf.describe()\";\n                var nbb_formatted_code = \"df = df[[\\\"Close\\\"]].copy()\\ndf.describe()\";\n                var nbb_cells = Jupyter.notebook.get_cells();\n                for (var i = 0; i < nbb_cells.length; ++i) {\n                    if (nbb_cells[i].input_prompt_number == nbb_cell_id) {\n                        if (nbb_cells[i].get_text() == nbb_unformatted_code) {\n                             nbb_cells[i].set_text(nbb_formatted_code);\n                        }\n                        break;\n                    }\n                }\n            }, 500);\n            ",
      "text/plain": [
       "<IPython.core.display.Javascript object>"
      ]
     },
     "metadata": {},
     "output_type": "display_data"
    },
    {
     "data": {
      "application/javascript": "\n            setTimeout(function() {\n                var nbb_cell_id = 22;\n                var nbb_unformatted_code = \"df = df[[\\\"Close\\\"]].copy()\\ndf.describe()\";\n                var nbb_formatted_code = \"df = df[[\\\"Close\\\"]].copy()\\ndf.describe()\";\n                var nbb_cells = Jupyter.notebook.get_cells();\n                for (var i = 0; i < nbb_cells.length; ++i) {\n                    if (nbb_cells[i].input_prompt_number == nbb_cell_id) {\n                        if (nbb_cells[i].get_text() == nbb_unformatted_code) {\n                             nbb_cells[i].set_text(nbb_formatted_code);\n                        }\n                        break;\n                    }\n                }\n            }, 500);\n            ",
      "text/plain": [
       "<IPython.core.display.Javascript object>"
      ]
     },
     "metadata": {},
     "output_type": "display_data"
    }
   ],
   "source": [
    "df = df[[\"Close\"]].copy()\n",
    "df.describe()\n"
   ]
  },
  {
   "cell_type": "markdown",
   "metadata": {},
   "source": [
    "### An ARIMA model is characterized by 3 terms (p, d, q):\n",
    "\n",
    "- p is the order of the AR term\n",
    "\n",
    "- d is the number of differencing required to make the time series stationary\n",
    "\n",
    "- q is the order of the MA term\n",
    "\n",
    "As we see in the parameters required by the model, any stationary time series can be modeled with ARIMA models."
   ]
  },
  {
   "cell_type": "markdown",
   "metadata": {},
   "source": [
    "### Stationarity\n",
    "\n",
    "Subtract the previous value from the current value. Now if we just difference once, we might not get a stationary series so we might need to do that multiple times. \n",
    "\n",
    "And the minimum number of differencing operations needed to make the series stationary needs to be imputed into our ARIMA model. "
   ]
  },
  {
   "cell_type": "markdown",
   "metadata": {},
   "source": [
    "We'll use the Augumented Dickey Fuller (ADF) test to check if the price series is stationary.\n",
    "\n",
    "The null hypothesis of the ADF test is that the time series is non-stationary. So, if the p-value of the test is less than the significance level (0.05) then we can reject the null hypothesis and infer that the time series is indeed stationary.\n",
    "\n",
    "So, in our case, if the p-value > 0.05 we'll need to find the order of differencing."
   ]
  },
  {
   "cell_type": "code",
   "execution_count": 23,
   "metadata": {},
   "outputs": [
    {
     "name": "stdout",
     "output_type": "stream",
     "text": [
      "ADF Statistic: 0.5249676991297756\n",
      "p-value: 0.985612534989313\n"
     ]
    },
    {
     "data": {
      "application/javascript": "\n            setTimeout(function() {\n                var nbb_cell_id = 23;\n                var nbb_unformatted_code = \"from statsmodels.tsa.stattools import adfuller\\n\\nresult = adfuller(df.Close.dropna())\\nprint(f\\\"ADF Statistic: {result[0]}\\\")\\nprint(f\\\"p-value: {result[1]}\\\")\";\n                var nbb_formatted_code = \"from statsmodels.tsa.stattools import adfuller\\n\\nresult = adfuller(df.Close.dropna())\\nprint(f\\\"ADF Statistic: {result[0]}\\\")\\nprint(f\\\"p-value: {result[1]}\\\")\";\n                var nbb_cells = Jupyter.notebook.get_cells();\n                for (var i = 0; i < nbb_cells.length; ++i) {\n                    if (nbb_cells[i].input_prompt_number == nbb_cell_id) {\n                        if (nbb_cells[i].get_text() == nbb_unformatted_code) {\n                             nbb_cells[i].set_text(nbb_formatted_code);\n                        }\n                        break;\n                    }\n                }\n            }, 500);\n            ",
      "text/plain": [
       "<IPython.core.display.Javascript object>"
      ]
     },
     "metadata": {},
     "output_type": "display_data"
    },
    {
     "data": {
      "application/javascript": "\n            setTimeout(function() {\n                var nbb_cell_id = 23;\n                var nbb_unformatted_code = \"from statsmodels.tsa.stattools import adfuller\\n\\nresult = adfuller(df.Close.dropna())\\nprint(f\\\"ADF Statistic: {result[0]}\\\")\\nprint(f\\\"p-value: {result[1]}\\\")\";\n                var nbb_formatted_code = \"from statsmodels.tsa.stattools import adfuller\\n\\nresult = adfuller(df.Close.dropna())\\nprint(f\\\"ADF Statistic: {result[0]}\\\")\\nprint(f\\\"p-value: {result[1]}\\\")\";\n                var nbb_cells = Jupyter.notebook.get_cells();\n                for (var i = 0; i < nbb_cells.length; ++i) {\n                    if (nbb_cells[i].input_prompt_number == nbb_cell_id) {\n                        if (nbb_cells[i].get_text() == nbb_unformatted_code) {\n                             nbb_cells[i].set_text(nbb_formatted_code);\n                        }\n                        break;\n                    }\n                }\n            }, 500);\n            ",
      "text/plain": [
       "<IPython.core.display.Javascript object>"
      ]
     },
     "metadata": {},
     "output_type": "display_data"
    },
    {
     "data": {
      "application/javascript": "\n            setTimeout(function() {\n                var nbb_cell_id = 23;\n                var nbb_unformatted_code = \"from statsmodels.tsa.stattools import adfuller\\n\\nresult = adfuller(df.Close.dropna())\\nprint(f\\\"ADF Statistic: {result[0]}\\\")\\nprint(f\\\"p-value: {result[1]}\\\")\";\n                var nbb_formatted_code = \"from statsmodels.tsa.stattools import adfuller\\n\\nresult = adfuller(df.Close.dropna())\\nprint(f\\\"ADF Statistic: {result[0]}\\\")\\nprint(f\\\"p-value: {result[1]}\\\")\";\n                var nbb_cells = Jupyter.notebook.get_cells();\n                for (var i = 0; i < nbb_cells.length; ++i) {\n                    if (nbb_cells[i].input_prompt_number == nbb_cell_id) {\n                        if (nbb_cells[i].get_text() == nbb_unformatted_code) {\n                             nbb_cells[i].set_text(nbb_formatted_code);\n                        }\n                        break;\n                    }\n                }\n            }, 500);\n            ",
      "text/plain": [
       "<IPython.core.display.Javascript object>"
      ]
     },
     "metadata": {},
     "output_type": "display_data"
    },
    {
     "data": {
      "application/javascript": "\n            setTimeout(function() {\n                var nbb_cell_id = 23;\n                var nbb_unformatted_code = \"from statsmodels.tsa.stattools import adfuller\\n\\nresult = adfuller(df.Close.dropna())\\nprint(f\\\"ADF Statistic: {result[0]}\\\")\\nprint(f\\\"p-value: {result[1]}\\\")\";\n                var nbb_formatted_code = \"from statsmodels.tsa.stattools import adfuller\\n\\nresult = adfuller(df.Close.dropna())\\nprint(f\\\"ADF Statistic: {result[0]}\\\")\\nprint(f\\\"p-value: {result[1]}\\\")\";\n                var nbb_cells = Jupyter.notebook.get_cells();\n                for (var i = 0; i < nbb_cells.length; ++i) {\n                    if (nbb_cells[i].input_prompt_number == nbb_cell_id) {\n                        if (nbb_cells[i].get_text() == nbb_unformatted_code) {\n                             nbb_cells[i].set_text(nbb_formatted_code);\n                        }\n                        break;\n                    }\n                }\n            }, 500);\n            ",
      "text/plain": [
       "<IPython.core.display.Javascript object>"
      ]
     },
     "metadata": {},
     "output_type": "display_data"
    }
   ],
   "source": [
    "from statsmodels.tsa.stattools import adfuller\n",
    "\n",
    "result = adfuller(df.Close.dropna())\n",
    "print(f\"ADF Statistic: {result[0]}\")\n",
    "print(f\"p-value: {result[1]}\")"
   ]
  },
  {
   "cell_type": "markdown",
   "metadata": {},
   "source": [
    "Not stationary as expected so we need to find orders of differencing to make it stationary. We need to check for autocorrelation functioning ACF\n",
    "#### p\n",
    "\n",
    "P is the order of the Auto Regressive (AR) term. It refers to the number of lags to be used as predictors. \n",
    "\n"
   ]
  },
  {
   "cell_type": "code",
   "execution_count": 24,
   "metadata": {},
   "outputs": [
    {
     "data": {
      "application/javascript": "\n            setTimeout(function() {\n                var nbb_cell_id = 24;\n                var nbb_unformatted_code = \"from statsmodels.graphics.tsaplots import plot_acf\";\n                var nbb_formatted_code = \"from statsmodels.graphics.tsaplots import plot_acf\";\n                var nbb_cells = Jupyter.notebook.get_cells();\n                for (var i = 0; i < nbb_cells.length; ++i) {\n                    if (nbb_cells[i].input_prompt_number == nbb_cell_id) {\n                        if (nbb_cells[i].get_text() == nbb_unformatted_code) {\n                             nbb_cells[i].set_text(nbb_formatted_code);\n                        }\n                        break;\n                    }\n                }\n            }, 500);\n            ",
      "text/plain": [
       "<IPython.core.display.Javascript object>"
      ]
     },
     "metadata": {},
     "output_type": "display_data"
    },
    {
     "data": {
      "application/javascript": "\n            setTimeout(function() {\n                var nbb_cell_id = 24;\n                var nbb_unformatted_code = \"from statsmodels.graphics.tsaplots import plot_acf\";\n                var nbb_formatted_code = \"from statsmodels.graphics.tsaplots import plot_acf\";\n                var nbb_cells = Jupyter.notebook.get_cells();\n                for (var i = 0; i < nbb_cells.length; ++i) {\n                    if (nbb_cells[i].input_prompt_number == nbb_cell_id) {\n                        if (nbb_cells[i].get_text() == nbb_unformatted_code) {\n                             nbb_cells[i].set_text(nbb_formatted_code);\n                        }\n                        break;\n                    }\n                }\n            }, 500);\n            ",
      "text/plain": [
       "<IPython.core.display.Javascript object>"
      ]
     },
     "metadata": {},
     "output_type": "display_data"
    },
    {
     "data": {
      "application/javascript": "\n            setTimeout(function() {\n                var nbb_cell_id = 24;\n                var nbb_unformatted_code = \"from statsmodels.graphics.tsaplots import plot_acf\";\n                var nbb_formatted_code = \"from statsmodels.graphics.tsaplots import plot_acf\";\n                var nbb_cells = Jupyter.notebook.get_cells();\n                for (var i = 0; i < nbb_cells.length; ++i) {\n                    if (nbb_cells[i].input_prompt_number == nbb_cell_id) {\n                        if (nbb_cells[i].get_text() == nbb_unformatted_code) {\n                             nbb_cells[i].set_text(nbb_formatted_code);\n                        }\n                        break;\n                    }\n                }\n            }, 500);\n            ",
      "text/plain": [
       "<IPython.core.display.Javascript object>"
      ]
     },
     "metadata": {},
     "output_type": "display_data"
    },
    {
     "data": {
      "application/javascript": "\n            setTimeout(function() {\n                var nbb_cell_id = 24;\n                var nbb_unformatted_code = \"from statsmodels.graphics.tsaplots import plot_acf\";\n                var nbb_formatted_code = \"from statsmodels.graphics.tsaplots import plot_acf\";\n                var nbb_cells = Jupyter.notebook.get_cells();\n                for (var i = 0; i < nbb_cells.length; ++i) {\n                    if (nbb_cells[i].input_prompt_number == nbb_cell_id) {\n                        if (nbb_cells[i].get_text() == nbb_unformatted_code) {\n                             nbb_cells[i].set_text(nbb_formatted_code);\n                        }\n                        break;\n                    }\n                }\n            }, 500);\n            ",
      "text/plain": [
       "<IPython.core.display.Javascript object>"
      ]
     },
     "metadata": {},
     "output_type": "display_data"
    }
   ],
   "source": [
    "from statsmodels.graphics.tsaplots import plot_acf"
   ]
  },
  {
   "cell_type": "markdown",
   "metadata": {},
   "source": [
    "We plot absolute prices over time and plot the autocorrelation"
   ]
  },
  {
   "cell_type": "code",
   "execution_count": 25,
   "metadata": {},
   "outputs": [
    {
     "data": {
      "image/png": "[encoded data removed]",
      "text/plain": [
       "<Figure size 1152x288 with 2 Axes>"
      ]
     },
     "metadata": {
      "needs_background": "light"
     },
     "output_type": "display_data"
    },
    {
     "data": {
      "application/javascript": "\n            setTimeout(function() {\n                var nbb_cell_id = 25;\n                var nbb_unformatted_code = \"ig, (ax1, ax2) = plt.subplots(1, 2, figsize=(16, 4))\\nax1.plot(df.Close)\\nax1.set_title(\\\"BTC\\\")\\nplot_acf(df.Close, ax=ax2);\\n#slight bug in library so we need to add ; to stop doubling up. \";\n                var nbb_formatted_code = \"ig, (ax1, ax2) = plt.subplots(1, 2, figsize=(16, 4))\\nax1.plot(df.Close)\\nax1.set_title(\\\"BTC\\\")\\nplot_acf(df.Close, ax=ax2)\\n# slight bug in library so we need to add ; to stop doubling up.\";\n                var nbb_cells = Jupyter.notebook.get_cells();\n                for (var i = 0; i < nbb_cells.length; ++i) {\n                    if (nbb_cells[i].input_prompt_number == nbb_cell_id) {\n                        if (nbb_cells[i].get_text() == nbb_unformatted_code) {\n                             nbb_cells[i].set_text(nbb_formatted_code);\n                        }\n                        break;\n                    }\n                }\n            }, 500);\n            ",
      "text/plain": [
       "<IPython.core.display.Javascript object>"
      ]
     },
     "metadata": {},
     "output_type": "display_data"
    },
    {
     "data": {
      "application/javascript": "\n            setTimeout(function() {\n                var nbb_cell_id = 25;\n                var nbb_unformatted_code = \"ig, (ax1, ax2) = plt.subplots(1, 2, figsize=(16, 4))\\nax1.plot(df.Close)\\nax1.set_title(\\\"BTC\\\")\\nplot_acf(df.Close, ax=ax2);\\n#slight bug in library so we need to add ; to stop doubling up. \";\n                var nbb_formatted_code = \"ig, (ax1, ax2) = plt.subplots(1, 2, figsize=(16, 4))\\nax1.plot(df.Close)\\nax1.set_title(\\\"BTC\\\")\\nplot_acf(df.Close, ax=ax2)\\n# slight bug in library so we need to add ; to stop doubling up.\";\n                var nbb_cells = Jupyter.notebook.get_cells();\n                for (var i = 0; i < nbb_cells.length; ++i) {\n                    if (nbb_cells[i].input_prompt_number == nbb_cell_id) {\n                        if (nbb_cells[i].get_text() == nbb_unformatted_code) {\n                             nbb_cells[i].set_text(nbb_formatted_code);\n                        }\n                        break;\n                    }\n                }\n            }, 500);\n            ",
      "text/plain": [
       "<IPython.core.display.Javascript object>"
      ]
     },
     "metadata": {},
     "output_type": "display_data"
    },
    {
     "data": {
      "application/javascript": "\n            setTimeout(function() {\n                var nbb_cell_id = 25;\n                var nbb_unformatted_code = \"ig, (ax1, ax2) = plt.subplots(1, 2, figsize=(16, 4))\\nax1.plot(df.Close)\\nax1.set_title(\\\"BTC\\\")\\nplot_acf(df.Close, ax=ax2);\\n#slight bug in library so we need to add ; to stop doubling up. \";\n                var nbb_formatted_code = \"ig, (ax1, ax2) = plt.subplots(1, 2, figsize=(16, 4))\\nax1.plot(df.Close)\\nax1.set_title(\\\"BTC\\\")\\nplot_acf(df.Close, ax=ax2)\\n# slight bug in library so we need to add ; to stop doubling up.\";\n                var nbb_cells = Jupyter.notebook.get_cells();\n                for (var i = 0; i < nbb_cells.length; ++i) {\n                    if (nbb_cells[i].input_prompt_number == nbb_cell_id) {\n                        if (nbb_cells[i].get_text() == nbb_unformatted_code) {\n                             nbb_cells[i].set_text(nbb_formatted_code);\n                        }\n                        break;\n                    }\n                }\n            }, 500);\n            ",
      "text/plain": [
       "<IPython.core.display.Javascript object>"
      ]
     },
     "metadata": {},
     "output_type": "display_data"
    },
    {
     "data": {
      "application/javascript": "\n            setTimeout(function() {\n                var nbb_cell_id = 25;\n                var nbb_unformatted_code = \"ig, (ax1, ax2) = plt.subplots(1, 2, figsize=(16, 4))\\nax1.plot(df.Close)\\nax1.set_title(\\\"BTC\\\")\\nplot_acf(df.Close, ax=ax2);\\n#slight bug in library so we need to add ; to stop doubling up. \";\n                var nbb_formatted_code = \"ig, (ax1, ax2) = plt.subplots(1, 2, figsize=(16, 4))\\nax1.plot(df.Close)\\nax1.set_title(\\\"BTC\\\")\\nplot_acf(df.Close, ax=ax2)\\n# slight bug in library so we need to add ; to stop doubling up.\";\n                var nbb_cells = Jupyter.notebook.get_cells();\n                for (var i = 0; i < nbb_cells.length; ++i) {\n                    if (nbb_cells[i].input_prompt_number == nbb_cell_id) {\n                        if (nbb_cells[i].get_text() == nbb_unformatted_code) {\n                             nbb_cells[i].set_text(nbb_formatted_code);\n                        }\n                        break;\n                    }\n                }\n            }, 500);\n            ",
      "text/plain": [
       "<IPython.core.display.Javascript object>"
      ]
     },
     "metadata": {},
     "output_type": "display_data"
    }
   ],
   "source": [
    "ig, (ax1, ax2) = plt.subplots(1, 2, figsize=(16, 4))\n",
    "ax1.plot(df.Close)\n",
    "ax1.set_title(\"BTC\")\n",
    "plot_acf(df.Close, ax=ax2);\n",
    "#slight bug in library so we need to add ; to stop doubling up. "
   ]
  },
  {
   "cell_type": "markdown",
   "metadata": {},
   "source": [
    "We plot the first order of difference to get the change around a mean of zero and plot the autocorrelations. "
   ]
  },
  {
   "cell_type": "code",
   "execution_count": 26,
   "metadata": {},
   "outputs": [
    {
     "data": {
      "image/png": "[encoded data removed]",
      "text/plain": [
       "<Figure size 1152x288 with 2 Axes>"
      ]
     },
     "metadata": {
      "needs_background": "light"
     },
     "output_type": "display_data"
    },
    {
     "data": {
      "application/javascript": "\n            setTimeout(function() {\n                var nbb_cell_id = 26;\n                var nbb_unformatted_code = \"diff = df.Close.diff().dropna()\\n\\nfig, (ax1, ax2) = plt.subplots(1, 2, figsize=(16, 4))\\n\\nax1.plot(diff)\\nax1.set_title(\\\"First Order Of Difference\\\")\\nplot_acf(diff, ax=ax2);\";\n                var nbb_formatted_code = \"diff = df.Close.diff().dropna()\\n\\nfig, (ax1, ax2) = plt.subplots(1, 2, figsize=(16, 4))\\n\\nax1.plot(diff)\\nax1.set_title(\\\"First Order Of Difference\\\")\\nplot_acf(diff, ax=ax2)\";\n                var nbb_cells = Jupyter.notebook.get_cells();\n                for (var i = 0; i < nbb_cells.length; ++i) {\n                    if (nbb_cells[i].input_prompt_number == nbb_cell_id) {\n                        if (nbb_cells[i].get_text() == nbb_unformatted_code) {\n                             nbb_cells[i].set_text(nbb_formatted_code);\n                        }\n                        break;\n                    }\n                }\n            }, 500);\n            ",
      "text/plain": [
       "<IPython.core.display.Javascript object>"
      ]
     },
     "metadata": {},
     "output_type": "display_data"
    },
    {
     "data": {
      "application/javascript": "\n            setTimeout(function() {\n                var nbb_cell_id = 26;\n                var nbb_unformatted_code = \"diff = df.Close.diff().dropna()\\n\\nfig, (ax1, ax2) = plt.subplots(1, 2, figsize=(16, 4))\\n\\nax1.plot(diff)\\nax1.set_title(\\\"First Order Of Difference\\\")\\nplot_acf(diff, ax=ax2);\";\n                var nbb_formatted_code = \"diff = df.Close.diff().dropna()\\n\\nfig, (ax1, ax2) = plt.subplots(1, 2, figsize=(16, 4))\\n\\nax1.plot(diff)\\nax1.set_title(\\\"First Order Of Difference\\\")\\nplot_acf(diff, ax=ax2)\";\n                var nbb_cells = Jupyter.notebook.get_cells();\n                for (var i = 0; i < nbb_cells.length; ++i) {\n                    if (nbb_cells[i].input_prompt_number == nbb_cell_id) {\n                        if (nbb_cells[i].get_text() == nbb_unformatted_code) {\n                             nbb_cells[i].set_text(nbb_formatted_code);\n                        }\n                        break;\n                    }\n                }\n            }, 500);\n            ",
      "text/plain": [
       "<IPython.core.display.Javascript object>"
      ]
     },
     "metadata": {},
     "output_type": "display_data"
    },
    {
     "data": {
      "application/javascript": "\n            setTimeout(function() {\n                var nbb_cell_id = 26;\n                var nbb_unformatted_code = \"diff = df.Close.diff().dropna()\\n\\nfig, (ax1, ax2) = plt.subplots(1, 2, figsize=(16, 4))\\n\\nax1.plot(diff)\\nax1.set_title(\\\"First Order Of Difference\\\")\\nplot_acf(diff, ax=ax2);\";\n                var nbb_formatted_code = \"diff = df.Close.diff().dropna()\\n\\nfig, (ax1, ax2) = plt.subplots(1, 2, figsize=(16, 4))\\n\\nax1.plot(diff)\\nax1.set_title(\\\"First Order Of Difference\\\")\\nplot_acf(diff, ax=ax2)\";\n                var nbb_cells = Jupyter.notebook.get_cells();\n                for (var i = 0; i < nbb_cells.length; ++i) {\n                    if (nbb_cells[i].input_prompt_number == nbb_cell_id) {\n                        if (nbb_cells[i].get_text() == nbb_unformatted_code) {\n                             nbb_cells[i].set_text(nbb_formatted_code);\n                        }\n                        break;\n                    }\n                }\n            }, 500);\n            ",
      "text/plain": [
       "<IPython.core.display.Javascript object>"
      ]
     },
     "metadata": {},
     "output_type": "display_data"
    },
    {
     "data": {
      "application/javascript": "\n            setTimeout(function() {\n                var nbb_cell_id = 26;\n                var nbb_unformatted_code = \"diff = df.Close.diff().dropna()\\n\\nfig, (ax1, ax2) = plt.subplots(1, 2, figsize=(16, 4))\\n\\nax1.plot(diff)\\nax1.set_title(\\\"First Order Of Difference\\\")\\nplot_acf(diff, ax=ax2);\";\n                var nbb_formatted_code = \"diff = df.Close.diff().dropna()\\n\\nfig, (ax1, ax2) = plt.subplots(1, 2, figsize=(16, 4))\\n\\nax1.plot(diff)\\nax1.set_title(\\\"First Order Of Difference\\\")\\nplot_acf(diff, ax=ax2)\";\n                var nbb_cells = Jupyter.notebook.get_cells();\n                for (var i = 0; i < nbb_cells.length; ++i) {\n                    if (nbb_cells[i].input_prompt_number == nbb_cell_id) {\n                        if (nbb_cells[i].get_text() == nbb_unformatted_code) {\n                             nbb_cells[i].set_text(nbb_formatted_code);\n                        }\n                        break;\n                    }\n                }\n            }, 500);\n            ",
      "text/plain": [
       "<IPython.core.display.Javascript object>"
      ]
     },
     "metadata": {},
     "output_type": "display_data"
    }
   ],
   "source": [
    "diff = df.Close.diff().dropna()\n",
    "\n",
    "fig, (ax1, ax2) = plt.subplots(1, 2, figsize=(16, 4))\n",
    "\n",
    "ax1.plot(diff)\n",
    "ax1.set_title(\"First Order Of Difference\")\n",
    "plot_acf(diff, ax=ax2);"
   ]
  },
  {
   "cell_type": "markdown",
   "metadata": {},
   "source": [
    "We plot the second order of difference to check the autocorrelation keeping a mind on over differencing. "
   ]
  },
  {
   "cell_type": "code",
   "execution_count": 27,
   "metadata": {},
   "outputs": [
    {
     "data": {
      "image/png": "[encoded data removed]",
      "text/plain": [
       "<Figure size 1152x288 with 2 Axes>"
      ]
     },
     "metadata": {
      "needs_background": "light"
     },
     "output_type": "display_data"
    },
    {
     "data": {
      "application/javascript": "\n            setTimeout(function() {\n                var nbb_cell_id = 27;\n                var nbb_unformatted_code = \"diff = df.Close.diff().diff().dropna()\\n\\nfig, (ax1, ax2) = plt.subplots(1, 2, figsize=(16, 4))\\n\\nax1.plot(diff)\\nax1.set_title(\\\"Second Order Of Difference\\\")\\nplot_acf(diff, ax=ax2);\";\n                var nbb_formatted_code = \"diff = df.Close.diff().diff().dropna()\\n\\nfig, (ax1, ax2) = plt.subplots(1, 2, figsize=(16, 4))\\n\\nax1.plot(diff)\\nax1.set_title(\\\"Second Order Of Difference\\\")\\nplot_acf(diff, ax=ax2)\";\n                var nbb_cells = Jupyter.notebook.get_cells();\n                for (var i = 0; i < nbb_cells.length; ++i) {\n                    if (nbb_cells[i].input_prompt_number == nbb_cell_id) {\n                        if (nbb_cells[i].get_text() == nbb_unformatted_code) {\n                             nbb_cells[i].set_text(nbb_formatted_code);\n                        }\n                        break;\n                    }\n                }\n            }, 500);\n            ",
      "text/plain": [
       "<IPython.core.display.Javascript object>"
      ]
     },
     "metadata": {},
     "output_type": "display_data"
    },
    {
     "data": {
      "application/javascript": "\n            setTimeout(function() {\n                var nbb_cell_id = 27;\n                var nbb_unformatted_code = \"diff = df.Close.diff().diff().dropna()\\n\\nfig, (ax1, ax2) = plt.subplots(1, 2, figsize=(16, 4))\\n\\nax1.plot(diff)\\nax1.set_title(\\\"Second Order Of Difference\\\")\\nplot_acf(diff, ax=ax2);\";\n                var nbb_formatted_code = \"diff = df.Close.diff().diff().dropna()\\n\\nfig, (ax1, ax2) = plt.subplots(1, 2, figsize=(16, 4))\\n\\nax1.plot(diff)\\nax1.set_title(\\\"Second Order Of Difference\\\")\\nplot_acf(diff, ax=ax2)\";\n                var nbb_cells = Jupyter.notebook.get_cells();\n                for (var i = 0; i < nbb_cells.length; ++i) {\n                    if (nbb_cells[i].input_prompt_number == nbb_cell_id) {\n                        if (nbb_cells[i].get_text() == nbb_unformatted_code) {\n                             nbb_cells[i].set_text(nbb_formatted_code);\n                        }\n                        break;\n                    }\n                }\n            }, 500);\n            ",
      "text/plain": [
       "<IPython.core.display.Javascript object>"
      ]
     },
     "metadata": {},
     "output_type": "display_data"
    },
    {
     "data": {
      "application/javascript": "\n            setTimeout(function() {\n                var nbb_cell_id = 27;\n                var nbb_unformatted_code = \"diff = df.Close.diff().diff().dropna()\\n\\nfig, (ax1, ax2) = plt.subplots(1, 2, figsize=(16, 4))\\n\\nax1.plot(diff)\\nax1.set_title(\\\"Second Order Of Difference\\\")\\nplot_acf(diff, ax=ax2);\";\n                var nbb_formatted_code = \"diff = df.Close.diff().diff().dropna()\\n\\nfig, (ax1, ax2) = plt.subplots(1, 2, figsize=(16, 4))\\n\\nax1.plot(diff)\\nax1.set_title(\\\"Second Order Of Difference\\\")\\nplot_acf(diff, ax=ax2)\";\n                var nbb_cells = Jupyter.notebook.get_cells();\n                for (var i = 0; i < nbb_cells.length; ++i) {\n                    if (nbb_cells[i].input_prompt_number == nbb_cell_id) {\n                        if (nbb_cells[i].get_text() == nbb_unformatted_code) {\n                             nbb_cells[i].set_text(nbb_formatted_code);\n                        }\n                        break;\n                    }\n                }\n            }, 500);\n            ",
      "text/plain": [
       "<IPython.core.display.Javascript object>"
      ]
     },
     "metadata": {},
     "output_type": "display_data"
    },
    {
     "data": {
      "application/javascript": "\n            setTimeout(function() {\n                var nbb_cell_id = 27;\n                var nbb_unformatted_code = \"diff = df.Close.diff().diff().dropna()\\n\\nfig, (ax1, ax2) = plt.subplots(1, 2, figsize=(16, 4))\\n\\nax1.plot(diff)\\nax1.set_title(\\\"Second Order Of Difference\\\")\\nplot_acf(diff, ax=ax2);\";\n                var nbb_formatted_code = \"diff = df.Close.diff().diff().dropna()\\n\\nfig, (ax1, ax2) = plt.subplots(1, 2, figsize=(16, 4))\\n\\nax1.plot(diff)\\nax1.set_title(\\\"Second Order Of Difference\\\")\\nplot_acf(diff, ax=ax2)\";\n                var nbb_cells = Jupyter.notebook.get_cells();\n                for (var i = 0; i < nbb_cells.length; ++i) {\n                    if (nbb_cells[i].input_prompt_number == nbb_cell_id) {\n                        if (nbb_cells[i].get_text() == nbb_unformatted_code) {\n                             nbb_cells[i].set_text(nbb_formatted_code);\n                        }\n                        break;\n                    }\n                }\n            }, 500);\n            ",
      "text/plain": [
       "<IPython.core.display.Javascript object>"
      ]
     },
     "metadata": {},
     "output_type": "display_data"
    }
   ],
   "source": [
    "diff = df.Close.diff().diff().dropna()\n",
    "\n",
    "fig, (ax1, ax2) = plt.subplots(1, 2, figsize=(16, 4))\n",
    "\n",
    "ax1.plot(diff)\n",
    "ax1.set_title(\"Second Order Of Difference\")\n",
    "plot_acf(diff, ax=ax2);"
   ]
  },
  {
   "cell_type": "markdown",
   "metadata": {},
   "source": [
    "We notice overdifferencing on the Second order so we choose to stick to the first Order of difference. We can use a tool called ndiffs from arima utilities to confirm our visual inspection.  "
   ]
  },
  {
   "cell_type": "code",
   "execution_count": 28,
   "metadata": {},
   "outputs": [
    {
     "data": {
      "application/javascript": "\n            setTimeout(function() {\n                var nbb_cell_id = 28;\n                var nbb_unformatted_code = \"from pmdarima.arima.utils import ndiffs\";\n                var nbb_formatted_code = \"from pmdarima.arima.utils import ndiffs\";\n                var nbb_cells = Jupyter.notebook.get_cells();\n                for (var i = 0; i < nbb_cells.length; ++i) {\n                    if (nbb_cells[i].input_prompt_number == nbb_cell_id) {\n                        if (nbb_cells[i].get_text() == nbb_unformatted_code) {\n                             nbb_cells[i].set_text(nbb_formatted_code);\n                        }\n                        break;\n                    }\n                }\n            }, 500);\n            ",
      "text/plain": [
       "<IPython.core.display.Javascript object>"
      ]
     },
     "metadata": {},
     "output_type": "display_data"
    },
    {
     "data": {
      "application/javascript": "\n            setTimeout(function() {\n                var nbb_cell_id = 28;\n                var nbb_unformatted_code = \"from pmdarima.arima.utils import ndiffs\";\n                var nbb_formatted_code = \"from pmdarima.arima.utils import ndiffs\";\n                var nbb_cells = Jupyter.notebook.get_cells();\n                for (var i = 0; i < nbb_cells.length; ++i) {\n                    if (nbb_cells[i].input_prompt_number == nbb_cell_id) {\n                        if (nbb_cells[i].get_text() == nbb_unformatted_code) {\n                             nbb_cells[i].set_text(nbb_formatted_code);\n                        }\n                        break;\n                    }\n                }\n            }, 500);\n            ",
      "text/plain": [
       "<IPython.core.display.Javascript object>"
      ]
     },
     "metadata": {},
     "output_type": "display_data"
    },
    {
     "data": {
      "application/javascript": "\n            setTimeout(function() {\n                var nbb_cell_id = 28;\n                var nbb_unformatted_code = \"from pmdarima.arima.utils import ndiffs\";\n                var nbb_formatted_code = \"from pmdarima.arima.utils import ndiffs\";\n                var nbb_cells = Jupyter.notebook.get_cells();\n                for (var i = 0; i < nbb_cells.length; ++i) {\n                    if (nbb_cells[i].input_prompt_number == nbb_cell_id) {\n                        if (nbb_cells[i].get_text() == nbb_unformatted_code) {\n                             nbb_cells[i].set_text(nbb_formatted_code);\n                        }\n                        break;\n                    }\n                }\n            }, 500);\n            ",
      "text/plain": [
       "<IPython.core.display.Javascript object>"
      ]
     },
     "metadata": {},
     "output_type": "display_data"
    },
    {
     "data": {
      "application/javascript": "\n            setTimeout(function() {\n                var nbb_cell_id = 28;\n                var nbb_unformatted_code = \"from pmdarima.arima.utils import ndiffs\";\n                var nbb_formatted_code = \"from pmdarima.arima.utils import ndiffs\";\n                var nbb_cells = Jupyter.notebook.get_cells();\n                for (var i = 0; i < nbb_cells.length; ++i) {\n                    if (nbb_cells[i].input_prompt_number == nbb_cell_id) {\n                        if (nbb_cells[i].get_text() == nbb_unformatted_code) {\n                             nbb_cells[i].set_text(nbb_formatted_code);\n                        }\n                        break;\n                    }\n                }\n            }, 500);\n            ",
      "text/plain": [
       "<IPython.core.display.Javascript object>"
      ]
     },
     "metadata": {},
     "output_type": "display_data"
    }
   ],
   "source": [
    "from pmdarima.arima.utils import ndiffs"
   ]
  },
  {
   "cell_type": "markdown",
   "metadata": {},
   "source": [
    "We check our ACF PLOTS with this tool"
   ]
  },
  {
   "cell_type": "code",
   "execution_count": 29,
   "metadata": {},
   "outputs": [
    {
     "data": {
      "text/plain": [
       "1"
      ]
     },
     "execution_count": 29,
     "metadata": {},
     "output_type": "execute_result"
    },
    {
     "data": {
      "application/javascript": "\n            setTimeout(function() {\n                var nbb_cell_id = 29;\n                var nbb_unformatted_code = \"ndiffs(df.Close, test=\\\"adf\\\")\";\n                var nbb_formatted_code = \"ndiffs(df.Close, test=\\\"adf\\\")\";\n                var nbb_cells = Jupyter.notebook.get_cells();\n                for (var i = 0; i < nbb_cells.length; ++i) {\n                    if (nbb_cells[i].input_prompt_number == nbb_cell_id) {\n                        if (nbb_cells[i].get_text() == nbb_unformatted_code) {\n                             nbb_cells[i].set_text(nbb_formatted_code);\n                        }\n                        break;\n                    }\n                }\n            }, 500);\n            ",
      "text/plain": [
       "<IPython.core.display.Javascript object>"
      ]
     },
     "metadata": {},
     "output_type": "display_data"
    },
    {
     "data": {
      "application/javascript": "\n            setTimeout(function() {\n                var nbb_cell_id = 29;\n                var nbb_unformatted_code = \"ndiffs(df.Close, test=\\\"adf\\\")\";\n                var nbb_formatted_code = \"ndiffs(df.Close, test=\\\"adf\\\")\";\n                var nbb_cells = Jupyter.notebook.get_cells();\n                for (var i = 0; i < nbb_cells.length; ++i) {\n                    if (nbb_cells[i].input_prompt_number == nbb_cell_id) {\n                        if (nbb_cells[i].get_text() == nbb_unformatted_code) {\n                             nbb_cells[i].set_text(nbb_formatted_code);\n                        }\n                        break;\n                    }\n                }\n            }, 500);\n            ",
      "text/plain": [
       "<IPython.core.display.Javascript object>"
      ]
     },
     "metadata": {},
     "output_type": "display_data"
    },
    {
     "data": {
      "application/javascript": "\n            setTimeout(function() {\n                var nbb_cell_id = 29;\n                var nbb_unformatted_code = \"ndiffs(df.Close, test=\\\"adf\\\")\";\n                var nbb_formatted_code = \"ndiffs(df.Close, test=\\\"adf\\\")\";\n                var nbb_cells = Jupyter.notebook.get_cells();\n                for (var i = 0; i < nbb_cells.length; ++i) {\n                    if (nbb_cells[i].input_prompt_number == nbb_cell_id) {\n                        if (nbb_cells[i].get_text() == nbb_unformatted_code) {\n                             nbb_cells[i].set_text(nbb_formatted_code);\n                        }\n                        break;\n                    }\n                }\n            }, 500);\n            ",
      "text/plain": [
       "<IPython.core.display.Javascript object>"
      ]
     },
     "metadata": {},
     "output_type": "display_data"
    },
    {
     "data": {
      "application/javascript": "\n            setTimeout(function() {\n                var nbb_cell_id = 29;\n                var nbb_unformatted_code = \"ndiffs(df.Close, test=\\\"adf\\\")\";\n                var nbb_formatted_code = \"ndiffs(df.Close, test=\\\"adf\\\")\";\n                var nbb_cells = Jupyter.notebook.get_cells();\n                for (var i = 0; i < nbb_cells.length; ++i) {\n                    if (nbb_cells[i].input_prompt_number == nbb_cell_id) {\n                        if (nbb_cells[i].get_text() == nbb_unformatted_code) {\n                             nbb_cells[i].set_text(nbb_formatted_code);\n                        }\n                        break;\n                    }\n                }\n            }, 500);\n            ",
      "text/plain": [
       "<IPython.core.display.Javascript object>"
      ]
     },
     "metadata": {},
     "output_type": "display_data"
    }
   ],
   "source": [
    "ndiffs(df.Close, test=\"adf\")"
   ]
  },
  {
   "cell_type": "markdown",
   "metadata": {},
   "source": [
    "It confirms our choice of the first order of difference being the best fit. Therefore D=1 "
   ]
  },
  {
   "cell_type": "markdown",
   "metadata": {},
   "source": [
    "\n",
    "#### Q\n",
    "\n",
    "Q is the order of the Moving Average (MA) term. It refers to the number of lagged forecast errors that should go into the ARIMA Model.\n",
    "\n",
    "We can look at the ACF plot for the number of MA terms\n"
   ]
  },
  {
   "cell_type": "markdown",
   "metadata": {},
   "source": [
    "Import our dependancies. "
   ]
  },
  {
   "cell_type": "code",
   "execution_count": 30,
   "metadata": {},
   "outputs": [
    {
     "data": {
      "application/javascript": "\n            setTimeout(function() {\n                var nbb_cell_id = 30;\n                var nbb_unformatted_code = \"from statsmodels.graphics.tsaplots import plot_pacf\";\n                var nbb_formatted_code = \"from statsmodels.graphics.tsaplots import plot_pacf\";\n                var nbb_cells = Jupyter.notebook.get_cells();\n                for (var i = 0; i < nbb_cells.length; ++i) {\n                    if (nbb_cells[i].input_prompt_number == nbb_cell_id) {\n                        if (nbb_cells[i].get_text() == nbb_unformatted_code) {\n                             nbb_cells[i].set_text(nbb_formatted_code);\n                        }\n                        break;\n                    }\n                }\n            }, 500);\n            ",
      "text/plain": [
       "<IPython.core.display.Javascript object>"
      ]
     },
     "metadata": {},
     "output_type": "display_data"
    },
    {
     "data": {
      "application/javascript": "\n            setTimeout(function() {\n                var nbb_cell_id = 30;\n                var nbb_unformatted_code = \"from statsmodels.graphics.tsaplots import plot_pacf\";\n                var nbb_formatted_code = \"from statsmodels.graphics.tsaplots import plot_pacf\";\n                var nbb_cells = Jupyter.notebook.get_cells();\n                for (var i = 0; i < nbb_cells.length; ++i) {\n                    if (nbb_cells[i].input_prompt_number == nbb_cell_id) {\n                        if (nbb_cells[i].get_text() == nbb_unformatted_code) {\n                             nbb_cells[i].set_text(nbb_formatted_code);\n                        }\n                        break;\n                    }\n                }\n            }, 500);\n            ",
      "text/plain": [
       "<IPython.core.display.Javascript object>"
      ]
     },
     "metadata": {},
     "output_type": "display_data"
    },
    {
     "data": {
      "application/javascript": "\n            setTimeout(function() {\n                var nbb_cell_id = 30;\n                var nbb_unformatted_code = \"from statsmodels.graphics.tsaplots import plot_pacf\";\n                var nbb_formatted_code = \"from statsmodels.graphics.tsaplots import plot_pacf\";\n                var nbb_cells = Jupyter.notebook.get_cells();\n                for (var i = 0; i < nbb_cells.length; ++i) {\n                    if (nbb_cells[i].input_prompt_number == nbb_cell_id) {\n                        if (nbb_cells[i].get_text() == nbb_unformatted_code) {\n                             nbb_cells[i].set_text(nbb_formatted_code);\n                        }\n                        break;\n                    }\n                }\n            }, 500);\n            ",
      "text/plain": [
       "<IPython.core.display.Javascript object>"
      ]
     },
     "metadata": {},
     "output_type": "display_data"
    },
    {
     "data": {
      "application/javascript": "\n            setTimeout(function() {\n                var nbb_cell_id = 30;\n                var nbb_unformatted_code = \"from statsmodels.graphics.tsaplots import plot_pacf\";\n                var nbb_formatted_code = \"from statsmodels.graphics.tsaplots import plot_pacf\";\n                var nbb_cells = Jupyter.notebook.get_cells();\n                for (var i = 0; i < nbb_cells.length; ++i) {\n                    if (nbb_cells[i].input_prompt_number == nbb_cell_id) {\n                        if (nbb_cells[i].get_text() == nbb_unformatted_code) {\n                             nbb_cells[i].set_text(nbb_formatted_code);\n                        }\n                        break;\n                    }\n                }\n            }, 500);\n            ",
      "text/plain": [
       "<IPython.core.display.Javascript object>"
      ]
     },
     "metadata": {},
     "output_type": "display_data"
    }
   ],
   "source": [
    "from statsmodels.graphics.tsaplots import plot_pacf"
   ]
  },
  {
   "cell_type": "code",
   "execution_count": 31,
   "metadata": {},
   "outputs": [
    {
     "data": {
      "image/png": "[encoded data removed]",
      "text/plain": [
       "<Figure size 1152x288 with 2 Axes>"
      ]
     },
     "metadata": {
      "needs_background": "light"
     },
     "output_type": "display_data"
    },
    {
     "data": {
      "application/javascript": "\n            setTimeout(function() {\n                var nbb_cell_id = 31;\n                var nbb_unformatted_code = \"diff = df.Close.diff().dropna()\\n\\nfig, (ax1, ax2) = plt.subplots(1, 2, figsize=(16, 4))\\n\\nax1.plot(diff)\\nax1.set_title(\\\"First Order Of Difference\\\")\\nax2.set_ylim(0, 1)\\nplot_pacf(diff, ax=ax2);\";\n                var nbb_formatted_code = \"diff = df.Close.diff().dropna()\\n\\nfig, (ax1, ax2) = plt.subplots(1, 2, figsize=(16, 4))\\n\\nax1.plot(diff)\\nax1.set_title(\\\"First Order Of Difference\\\")\\nax2.set_ylim(0, 1)\\nplot_pacf(diff, ax=ax2)\";\n                var nbb_cells = Jupyter.notebook.get_cells();\n                for (var i = 0; i < nbb_cells.length; ++i) {\n                    if (nbb_cells[i].input_prompt_number == nbb_cell_id) {\n                        if (nbb_cells[i].get_text() == nbb_unformatted_code) {\n                             nbb_cells[i].set_text(nbb_formatted_code);\n                        }\n                        break;\n                    }\n                }\n            }, 500);\n            ",
      "text/plain": [
       "<IPython.core.display.Javascript object>"
      ]
     },
     "metadata": {},
     "output_type": "display_data"
    },
    {
     "data": {
      "application/javascript": "\n            setTimeout(function() {\n                var nbb_cell_id = 31;\n                var nbb_unformatted_code = \"diff = df.Close.diff().dropna()\\n\\nfig, (ax1, ax2) = plt.subplots(1, 2, figsize=(16, 4))\\n\\nax1.plot(diff)\\nax1.set_title(\\\"First Order Of Difference\\\")\\nax2.set_ylim(0, 1)\\nplot_pacf(diff, ax=ax2);\";\n                var nbb_formatted_code = \"diff = df.Close.diff().dropna()\\n\\nfig, (ax1, ax2) = plt.subplots(1, 2, figsize=(16, 4))\\n\\nax1.plot(diff)\\nax1.set_title(\\\"First Order Of Difference\\\")\\nax2.set_ylim(0, 1)\\nplot_pacf(diff, ax=ax2)\";\n                var nbb_cells = Jupyter.notebook.get_cells();\n                for (var i = 0; i < nbb_cells.length; ++i) {\n                    if (nbb_cells[i].input_prompt_number == nbb_cell_id) {\n                        if (nbb_cells[i].get_text() == nbb_unformatted_code) {\n                             nbb_cells[i].set_text(nbb_formatted_code);\n                        }\n                        break;\n                    }\n                }\n            }, 500);\n            ",
      "text/plain": [
       "<IPython.core.display.Javascript object>"
      ]
     },
     "metadata": {},
     "output_type": "display_data"
    },
    {
     "data": {
      "application/javascript": "\n            setTimeout(function() {\n                var nbb_cell_id = 31;\n                var nbb_unformatted_code = \"diff = df.Close.diff().dropna()\\n\\nfig, (ax1, ax2) = plt.subplots(1, 2, figsize=(16, 4))\\n\\nax1.plot(diff)\\nax1.set_title(\\\"First Order Of Difference\\\")\\nax2.set_ylim(0, 1)\\nplot_pacf(diff, ax=ax2);\";\n                var nbb_formatted_code = \"diff = df.Close.diff().dropna()\\n\\nfig, (ax1, ax2) = plt.subplots(1, 2, figsize=(16, 4))\\n\\nax1.plot(diff)\\nax1.set_title(\\\"First Order Of Difference\\\")\\nax2.set_ylim(0, 1)\\nplot_pacf(diff, ax=ax2)\";\n                var nbb_cells = Jupyter.notebook.get_cells();\n                for (var i = 0; i < nbb_cells.length; ++i) {\n                    if (nbb_cells[i].input_prompt_number == nbb_cell_id) {\n                        if (nbb_cells[i].get_text() == nbb_unformatted_code) {\n                             nbb_cells[i].set_text(nbb_formatted_code);\n                        }\n                        break;\n                    }\n                }\n            }, 500);\n            ",
      "text/plain": [
       "<IPython.core.display.Javascript object>"
      ]
     },
     "metadata": {},
     "output_type": "display_data"
    },
    {
     "data": {
      "application/javascript": "\n            setTimeout(function() {\n                var nbb_cell_id = 31;\n                var nbb_unformatted_code = \"diff = df.Close.diff().dropna()\\n\\nfig, (ax1, ax2) = plt.subplots(1, 2, figsize=(16, 4))\\n\\nax1.plot(diff)\\nax1.set_title(\\\"First Order Of Difference\\\")\\nax2.set_ylim(0, 1)\\nplot_pacf(diff, ax=ax2);\";\n                var nbb_formatted_code = \"diff = df.Close.diff().dropna()\\n\\nfig, (ax1, ax2) = plt.subplots(1, 2, figsize=(16, 4))\\n\\nax1.plot(diff)\\nax1.set_title(\\\"First Order Of Difference\\\")\\nax2.set_ylim(0, 1)\\nplot_pacf(diff, ax=ax2)\";\n                var nbb_cells = Jupyter.notebook.get_cells();\n                for (var i = 0; i < nbb_cells.length; ++i) {\n                    if (nbb_cells[i].input_prompt_number == nbb_cell_id) {\n                        if (nbb_cells[i].get_text() == nbb_unformatted_code) {\n                             nbb_cells[i].set_text(nbb_formatted_code);\n                        }\n                        break;\n                    }\n                }\n            }, 500);\n            ",
      "text/plain": [
       "<IPython.core.display.Javascript object>"
      ]
     },
     "metadata": {},
     "output_type": "display_data"
    }
   ],
   "source": [
    "diff = df.Close.diff().dropna()\n",
    "\n",
    "fig, (ax1, ax2) = plt.subplots(1, 2, figsize=(16, 4))\n",
    "\n",
    "ax1.plot(diff)\n",
    "ax1.set_title(\"First Order Of Difference\")\n",
    "ax2.set_ylim(0, 1)\n",
    "plot_pacf(diff, ax=ax2);"
   ]
  },
  {
   "cell_type": "markdown",
   "metadata": {},
   "source": [
    "We can see that the first PACF above the significance line is 4. So we choose Q=4 for our ARIMA model. "
   ]
  },
  {
   "cell_type": "markdown",
   "metadata": {},
   "source": [
    "- p is the order of the AR term = 10\n",
    "\n",
    "- d is the number of differencing required to make the time series stationary = 1\n",
    "\n",
    "- q is the order of the MA term = 4"
   ]
  },
  {
   "cell_type": "markdown",
   "metadata": {},
   "source": [
    "p = 10 would not run. Kept crashing the model so I ran the next best closest signficant thing being 9. "
   ]
  },
  {
   "cell_type": "code",
   "execution_count": 40,
   "metadata": {},
   "outputs": [
    {
     "name": "stderr",
     "output_type": "stream",
     "text": [
      "C:\\Users\\pmellett\\Anaconda3\\envs\\PythonAdv\\lib\\site-packages\\statsmodels\\tsa\\arima_model.py:472: FutureWarning: \n",
      "statsmodels.tsa.arima_model.ARMA and statsmodels.tsa.arima_model.ARIMA have\n",
      "been deprecated in favor of statsmodels.tsa.arima.model.ARIMA (note the .\n",
      "between arima and model) and\n",
      "statsmodels.tsa.SARIMAX. These will be removed after the 0.12 release.\n",
      "\n",
      "statsmodels.tsa.arima.model.ARIMA makes use of the statespace framework and\n",
      "is both well tested and maintained.\n",
      "\n",
      "To silence this warning and continue using ARMA and ARIMA until they are\n",
      "removed, use:\n",
      "\n",
      "import warnings\n",
      "warnings.filterwarnings('ignore', 'statsmodels.tsa.arima_model.ARMA',\n",
      "                        FutureWarning)\n",
      "warnings.filterwarnings('ignore', 'statsmodels.tsa.arima_model.ARIMA',\n",
      "                        FutureWarning)\n",
      "\n",
      "  warnings.warn(ARIMA_DEPRECATION_WARN, FutureWarning)\n",
      "C:\\Users\\pmellett\\Anaconda3\\envs\\PythonAdv\\lib\\site-packages\\statsmodels\\tsa\\arima_model.py:472: FutureWarning: \n",
      "statsmodels.tsa.arima_model.ARMA and statsmodels.tsa.arima_model.ARIMA have\n",
      "been deprecated in favor of statsmodels.tsa.arima.model.ARIMA (note the .\n",
      "between arima and model) and\n",
      "statsmodels.tsa.SARIMAX. These will be removed after the 0.12 release.\n",
      "\n",
      "statsmodels.tsa.arima.model.ARIMA makes use of the statespace framework and\n",
      "is both well tested and maintained.\n",
      "\n",
      "To silence this warning and continue using ARMA and ARIMA until they are\n",
      "removed, use:\n",
      "\n",
      "import warnings\n",
      "warnings.filterwarnings('ignore', 'statsmodels.tsa.arima_model.ARMA',\n",
      "                        FutureWarning)\n",
      "warnings.filterwarnings('ignore', 'statsmodels.tsa.arima_model.ARIMA',\n",
      "                        FutureWarning)\n",
      "\n",
      "  warnings.warn(ARIMA_DEPRECATION_WARN, FutureWarning)\n"
     ]
    },
    {
     "name": "stdout",
     "output_type": "stream",
     "text": [
      "                             ARIMA Model Results                              \n",
      "==============================================================================\n",
      "Dep. Variable:                D.Close   No. Observations:                  999\n",
      "Model:                 ARIMA(9, 1, 4)   Log Likelihood               -8415.224\n",
      "Method:                       css-mle   S.D. of innovations           1101.078\n",
      "Date:                Fri, 12 Nov 2021   AIC                          16860.448\n",
      "Time:                        09:57:20   BIC                          16934.049\n",
      "Sample:                             1   HQIC                         16888.422\n",
      "                                                                              \n",
      "=================================================================================\n",
      "                    coef    std err          z      P>|z|      [0.025      0.975]\n",
      "---------------------------------------------------------------------------------\n",
      "const            63.8214     36.210      1.763      0.078      -7.149     134.792\n",
      "ar.L1.D.Close    -1.0474      0.249     -4.209      0.000      -1.535      -0.560\n",
      "ar.L2.D.Close    -0.8162      0.353     -2.310      0.021      -1.509      -0.124\n",
      "ar.L3.D.Close    -0.3455      0.346     -0.999      0.318      -1.023       0.332\n",
      "ar.L4.D.Close     0.4378      0.237      1.846      0.065      -0.027       0.903\n",
      "ar.L5.D.Close     0.1337      0.057      2.328      0.020       0.021       0.246\n",
      "ar.L6.D.Close     0.0810      0.062      1.298      0.194      -0.041       0.203\n",
      "ar.L7.D.Close     0.0253      0.065      0.387      0.699      -0.103       0.154\n",
      "ar.L8.D.Close    -0.0872      0.059     -1.486      0.137      -0.202       0.028\n",
      "ar.L9.D.Close    -0.0845      0.037     -2.297      0.022      -0.157      -0.012\n",
      "ma.L1.D.Close     0.9962      0.248      4.013      0.000       0.510       1.483\n",
      "ma.L2.D.Close     0.8248      0.340      2.427      0.015       0.159       1.491\n",
      "ma.L3.D.Close     0.3643      0.340      1.073      0.283      -0.301       1.030\n",
      "ma.L4.D.Close    -0.3758      0.234     -1.604      0.109      -0.835       0.083\n",
      "                                    Roots                                    \n",
      "=============================================================================\n",
      "                  Real          Imaginary           Modulus         Frequency\n",
      "-----------------------------------------------------------------------------\n",
      "AR.1            1.4034           -0.4775j            1.4824           -0.0522\n",
      "AR.2            1.4034           +0.4775j            1.4824            0.0522\n",
      "AR.3           -0.2638           -0.9860j            1.0207           -0.2916\n",
      "AR.4           -0.2638           +0.9860j            1.0207            0.2916\n",
      "AR.5            0.2472           -1.3867j            1.4086           -0.2219\n",
      "AR.6            0.2472           +1.3867j            1.4086            0.2219\n",
      "AR.7           -1.0331           -0.0000j            1.0331           -0.5000\n",
      "AR.8           -1.3862           -0.7747j            1.5880           -0.4189\n",
      "AR.9           -1.3862           +0.7747j            1.5880            0.4189\n",
      "MA.1           -1.0431           -0.0000j            1.0431           -0.5000\n",
      "MA.2           -0.2285           -0.9904j            1.0164           -0.2861\n",
      "MA.3           -0.2285           +0.9904j            1.0164            0.2861\n",
      "MA.4            2.4695           -0.0000j            2.4695           -0.0000\n",
      "-----------------------------------------------------------------------------\n"
     ]
    },
    {
     "data": {
      "application/javascript": "\n            setTimeout(function() {\n                var nbb_cell_id = 40;\n                var nbb_unformatted_code = \"from statsmodels.tsa.arima_model import ARIMA\\n\\nmodel = ARIMA(df.Close, order=(9, 1, 4))\\nresult = model.fit(disp=0)\\nprint(result.summary())\";\n                var nbb_formatted_code = \"from statsmodels.tsa.arima_model import ARIMA\\n\\nmodel = ARIMA(df.Close, order=(9, 1, 4))\\nresult = model.fit(disp=0)\\nprint(result.summary())\";\n                var nbb_cells = Jupyter.notebook.get_cells();\n                for (var i = 0; i < nbb_cells.length; ++i) {\n                    if (nbb_cells[i].input_prompt_number == nbb_cell_id) {\n                        if (nbb_cells[i].get_text() == nbb_unformatted_code) {\n                             nbb_cells[i].set_text(nbb_formatted_code);\n                        }\n                        break;\n                    }\n                }\n            }, 500);\n            ",
      "text/plain": [
       "<IPython.core.display.Javascript object>"
      ]
     },
     "metadata": {},
     "output_type": "display_data"
    },
    {
     "data": {
      "application/javascript": "\n            setTimeout(function() {\n                var nbb_cell_id = 40;\n                var nbb_unformatted_code = \"from statsmodels.tsa.arima_model import ARIMA\\n\\nmodel = ARIMA(df.Close, order=(9, 1, 4))\\nresult = model.fit(disp=0)\\nprint(result.summary())\";\n                var nbb_formatted_code = \"from statsmodels.tsa.arima_model import ARIMA\\n\\nmodel = ARIMA(df.Close, order=(9, 1, 4))\\nresult = model.fit(disp=0)\\nprint(result.summary())\";\n                var nbb_cells = Jupyter.notebook.get_cells();\n                for (var i = 0; i < nbb_cells.length; ++i) {\n                    if (nbb_cells[i].input_prompt_number == nbb_cell_id) {\n                        if (nbb_cells[i].get_text() == nbb_unformatted_code) {\n                             nbb_cells[i].set_text(nbb_formatted_code);\n                        }\n                        break;\n                    }\n                }\n            }, 500);\n            ",
      "text/plain": [
       "<IPython.core.display.Javascript object>"
      ]
     },
     "metadata": {},
     "output_type": "display_data"
    },
    {
     "data": {
      "application/javascript": "\n            setTimeout(function() {\n                var nbb_cell_id = 40;\n                var nbb_unformatted_code = \"from statsmodels.tsa.arima_model import ARIMA\\n\\nmodel = ARIMA(df.Close, order=(9, 1, 4))\\nresult = model.fit(disp=0)\\nprint(result.summary())\";\n                var nbb_formatted_code = \"from statsmodels.tsa.arima_model import ARIMA\\n\\nmodel = ARIMA(df.Close, order=(9, 1, 4))\\nresult = model.fit(disp=0)\\nprint(result.summary())\";\n                var nbb_cells = Jupyter.notebook.get_cells();\n                for (var i = 0; i < nbb_cells.length; ++i) {\n                    if (nbb_cells[i].input_prompt_number == nbb_cell_id) {\n                        if (nbb_cells[i].get_text() == nbb_unformatted_code) {\n                             nbb_cells[i].set_text(nbb_formatted_code);\n                        }\n                        break;\n                    }\n                }\n            }, 500);\n            ",
      "text/plain": [
       "<IPython.core.display.Javascript object>"
      ]
     },
     "metadata": {},
     "output_type": "display_data"
    },
    {
     "data": {
      "application/javascript": "\n            setTimeout(function() {\n                var nbb_cell_id = 40;\n                var nbb_unformatted_code = \"from statsmodels.tsa.arima_model import ARIMA\\n\\nmodel = ARIMA(df.Close, order=(9, 1, 4))\\nresult = model.fit(disp=0)\\nprint(result.summary())\";\n                var nbb_formatted_code = \"from statsmodels.tsa.arima_model import ARIMA\\n\\nmodel = ARIMA(df.Close, order=(9, 1, 4))\\nresult = model.fit(disp=0)\\nprint(result.summary())\";\n                var nbb_cells = Jupyter.notebook.get_cells();\n                for (var i = 0; i < nbb_cells.length; ++i) {\n                    if (nbb_cells[i].input_prompt_number == nbb_cell_id) {\n                        if (nbb_cells[i].get_text() == nbb_unformatted_code) {\n                             nbb_cells[i].set_text(nbb_formatted_code);\n                        }\n                        break;\n                    }\n                }\n            }, 500);\n            ",
      "text/plain": [
       "<IPython.core.display.Javascript object>"
      ]
     },
     "metadata": {},
     "output_type": "display_data"
    }
   ],
   "source": [
    "from statsmodels.tsa.arima_model import ARIMA\n",
    "\n",
    "model = ARIMA(df.Close, order=(9, 1, 4))\n",
    "result = model.fit(disp=0)\n",
    "print(result.summary())"
   ]
  },
  {
   "cell_type": "markdown",
   "metadata": {},
   "source": [
    "## Plot Residuals"
   ]
  },
  {
   "cell_type": "code",
   "execution_count": 41,
   "metadata": {},
   "outputs": [
    {
     "data": {
      "text/plain": [
       "(array([2.88035238e-06, 2.16026429e-06, 1.22414976e-05, 4.24851977e-05,\n",
       "        4.88219729e-04, 1.30335945e-04, 2.73633477e-05, 1.29615857e-05,\n",
       "        0.00000000e+00, 7.20088096e-07]),\n",
       " array([-6686.03674461, -5295.92766423, -3905.81858385, -2515.70950347,\n",
       "        -1125.60042309,   264.50865729,  1654.61773767,  3044.72681805,\n",
       "         4434.83589842,  5824.9449788 ,  7215.05405918]),\n",
       " <BarContainer object of 10 artists>)"
      ]
     },
     "execution_count": 41,
     "metadata": {},
     "output_type": "execute_result"
    },
    {
     "data": {
      "image/png": "[encoded data removed]",
      "text/plain": [
       "<Figure size 1152x288 with 2 Axes>"
      ]
     },
     "metadata": {
      "needs_background": "light"
     },
     "output_type": "display_data"
    },
    {
     "data": {
      "application/javascript": "\n            setTimeout(function() {\n                var nbb_cell_id = 41;\n                var nbb_unformatted_code = \"residuals = pd.DataFrame(result.resid)\\n\\nfig, (ax1, ax2) = plt.subplots(1, 2, figsize=(16, 4))\\n\\nax1.plot(residuals)\\nax2.hist(residuals, density=True)\";\n                var nbb_formatted_code = \"residuals = pd.DataFrame(result.resid)\\n\\nfig, (ax1, ax2) = plt.subplots(1, 2, figsize=(16, 4))\\n\\nax1.plot(residuals)\\nax2.hist(residuals, density=True)\";\n                var nbb_cells = Jupyter.notebook.get_cells();\n                for (var i = 0; i < nbb_cells.length; ++i) {\n                    if (nbb_cells[i].input_prompt_number == nbb_cell_id) {\n                        if (nbb_cells[i].get_text() == nbb_unformatted_code) {\n                             nbb_cells[i].set_text(nbb_formatted_code);\n                        }\n                        break;\n                    }\n                }\n            }, 500);\n            ",
      "text/plain": [
       "<IPython.core.display.Javascript object>"
      ]
     },
     "metadata": {},
     "output_type": "display_data"
    },
    {
     "data": {
      "application/javascript": "\n            setTimeout(function() {\n                var nbb_cell_id = 41;\n                var nbb_unformatted_code = \"residuals = pd.DataFrame(result.resid)\\n\\nfig, (ax1, ax2) = plt.subplots(1, 2, figsize=(16, 4))\\n\\nax1.plot(residuals)\\nax2.hist(residuals, density=True)\";\n                var nbb_formatted_code = \"residuals = pd.DataFrame(result.resid)\\n\\nfig, (ax1, ax2) = plt.subplots(1, 2, figsize=(16, 4))\\n\\nax1.plot(residuals)\\nax2.hist(residuals, density=True)\";\n                var nbb_cells = Jupyter.notebook.get_cells();\n                for (var i = 0; i < nbb_cells.length; ++i) {\n                    if (nbb_cells[i].input_prompt_number == nbb_cell_id) {\n                        if (nbb_cells[i].get_text() == nbb_unformatted_code) {\n                             nbb_cells[i].set_text(nbb_formatted_code);\n                        }\n                        break;\n                    }\n                }\n            }, 500);\n            ",
      "text/plain": [
       "<IPython.core.display.Javascript object>"
      ]
     },
     "metadata": {},
     "output_type": "display_data"
    },
    {
     "data": {
      "application/javascript": "\n            setTimeout(function() {\n                var nbb_cell_id = 41;\n                var nbb_unformatted_code = \"residuals = pd.DataFrame(result.resid)\\n\\nfig, (ax1, ax2) = plt.subplots(1, 2, figsize=(16, 4))\\n\\nax1.plot(residuals)\\nax2.hist(residuals, density=True)\";\n                var nbb_formatted_code = \"residuals = pd.DataFrame(result.resid)\\n\\nfig, (ax1, ax2) = plt.subplots(1, 2, figsize=(16, 4))\\n\\nax1.plot(residuals)\\nax2.hist(residuals, density=True)\";\n                var nbb_cells = Jupyter.notebook.get_cells();\n                for (var i = 0; i < nbb_cells.length; ++i) {\n                    if (nbb_cells[i].input_prompt_number == nbb_cell_id) {\n                        if (nbb_cells[i].get_text() == nbb_unformatted_code) {\n                             nbb_cells[i].set_text(nbb_formatted_code);\n                        }\n                        break;\n                    }\n                }\n            }, 500);\n            ",
      "text/plain": [
       "<IPython.core.display.Javascript object>"
      ]
     },
     "metadata": {},
     "output_type": "display_data"
    },
    {
     "data": {
      "application/javascript": "\n            setTimeout(function() {\n                var nbb_cell_id = 41;\n                var nbb_unformatted_code = \"residuals = pd.DataFrame(result.resid)\\n\\nfig, (ax1, ax2) = plt.subplots(1, 2, figsize=(16, 4))\\n\\nax1.plot(residuals)\\nax2.hist(residuals, density=True)\";\n                var nbb_formatted_code = \"residuals = pd.DataFrame(result.resid)\\n\\nfig, (ax1, ax2) = plt.subplots(1, 2, figsize=(16, 4))\\n\\nax1.plot(residuals)\\nax2.hist(residuals, density=True)\";\n                var nbb_cells = Jupyter.notebook.get_cells();\n                for (var i = 0; i < nbb_cells.length; ++i) {\n                    if (nbb_cells[i].input_prompt_number == nbb_cell_id) {\n                        if (nbb_cells[i].get_text() == nbb_unformatted_code) {\n                             nbb_cells[i].set_text(nbb_formatted_code);\n                        }\n                        break;\n                    }\n                }\n            }, 500);\n            ",
      "text/plain": [
       "<IPython.core.display.Javascript object>"
      ]
     },
     "metadata": {},
     "output_type": "display_data"
    }
   ],
   "source": [
    "residuals = pd.DataFrame(result.resid)\n",
    "\n",
    "fig, (ax1, ax2) = plt.subplots(1, 2, figsize=(16, 4))\n",
    "\n",
    "ax1.plot(residuals)\n",
    "ax2.hist(residuals, density=True)"
   ]
  },
  {
   "cell_type": "markdown",
   "metadata": {},
   "source": [
    "Plot Results of Actual versus Fitted (Training)"
   ]
  },
  {
   "cell_type": "code",
   "execution_count": 43,
   "metadata": {},
   "outputs": [
    {
     "data": {
      "image/png": "[encoded data removed]",
      "text/plain": [
       "<Figure size 432x288 with 1 Axes>"
      ]
     },
     "metadata": {
      "needs_background": "light"
     },
     "output_type": "display_data"
    },
    {
     "data": {
      "application/javascript": "\n            setTimeout(function() {\n                var nbb_cell_id = 43;\n                var nbb_unformatted_code = \"# Actual vs Fitted\\nresult.plot_predict(\\n    start=1,\\n    end=50,\\n    dynamic=False,\\n) ;\";\n                var nbb_formatted_code = \"# Actual vs Fitted\\nresult.plot_predict(\\n    start=1,\\n    end=50,\\n    dynamic=False,\\n)\";\n                var nbb_cells = Jupyter.notebook.get_cells();\n                for (var i = 0; i < nbb_cells.length; ++i) {\n                    if (nbb_cells[i].input_prompt_number == nbb_cell_id) {\n                        if (nbb_cells[i].get_text() == nbb_unformatted_code) {\n                             nbb_cells[i].set_text(nbb_formatted_code);\n                        }\n                        break;\n                    }\n                }\n            }, 500);\n            ",
      "text/plain": [
       "<IPython.core.display.Javascript object>"
      ]
     },
     "metadata": {},
     "output_type": "display_data"
    },
    {
     "data": {
      "application/javascript": "\n            setTimeout(function() {\n                var nbb_cell_id = 43;\n                var nbb_unformatted_code = \"# Actual vs Fitted\\nresult.plot_predict(\\n    start=1,\\n    end=50,\\n    dynamic=False,\\n) ;\";\n                var nbb_formatted_code = \"# Actual vs Fitted\\nresult.plot_predict(\\n    start=1,\\n    end=50,\\n    dynamic=False,\\n)\";\n                var nbb_cells = Jupyter.notebook.get_cells();\n                for (var i = 0; i < nbb_cells.length; ++i) {\n                    if (nbb_cells[i].input_prompt_number == nbb_cell_id) {\n                        if (nbb_cells[i].get_text() == nbb_unformatted_code) {\n                             nbb_cells[i].set_text(nbb_formatted_code);\n                        }\n                        break;\n                    }\n                }\n            }, 500);\n            ",
      "text/plain": [
       "<IPython.core.display.Javascript object>"
      ]
     },
     "metadata": {},
     "output_type": "display_data"
    },
    {
     "data": {
      "application/javascript": "\n            setTimeout(function() {\n                var nbb_cell_id = 43;\n                var nbb_unformatted_code = \"# Actual vs Fitted\\nresult.plot_predict(\\n    start=1,\\n    end=50,\\n    dynamic=False,\\n) ;\";\n                var nbb_formatted_code = \"# Actual vs Fitted\\nresult.plot_predict(\\n    start=1,\\n    end=50,\\n    dynamic=False,\\n)\";\n                var nbb_cells = Jupyter.notebook.get_cells();\n                for (var i = 0; i < nbb_cells.length; ++i) {\n                    if (nbb_cells[i].input_prompt_number == nbb_cell_id) {\n                        if (nbb_cells[i].get_text() == nbb_unformatted_code) {\n                             nbb_cells[i].set_text(nbb_formatted_code);\n                        }\n                        break;\n                    }\n                }\n            }, 500);\n            ",
      "text/plain": [
       "<IPython.core.display.Javascript object>"
      ]
     },
     "metadata": {},
     "output_type": "display_data"
    },
    {
     "data": {
      "application/javascript": "\n            setTimeout(function() {\n                var nbb_cell_id = 43;\n                var nbb_unformatted_code = \"# Actual vs Fitted\\nresult.plot_predict(\\n    start=1,\\n    end=50,\\n    dynamic=False,\\n) ;\";\n                var nbb_formatted_code = \"# Actual vs Fitted\\nresult.plot_predict(\\n    start=1,\\n    end=50,\\n    dynamic=False,\\n)\";\n                var nbb_cells = Jupyter.notebook.get_cells();\n                for (var i = 0; i < nbb_cells.length; ++i) {\n                    if (nbb_cells[i].input_prompt_number == nbb_cell_id) {\n                        if (nbb_cells[i].get_text() == nbb_unformatted_code) {\n                             nbb_cells[i].set_text(nbb_formatted_code);\n                        }\n                        break;\n                    }\n                }\n            }, 500);\n            ",
      "text/plain": [
       "<IPython.core.display.Javascript object>"
      ]
     },
     "metadata": {},
     "output_type": "display_data"
    }
   ],
   "source": [
    "# Actual vs Fitted\n",
    "result.plot_predict(\n",
    "    start=1,\n",
    "    end=50,\n",
    "    dynamic=False,\n",
    ") ;"
   ]
  },
  {
   "cell_type": "markdown",
   "metadata": {},
   "source": [
    "## Train Test Split"
   ]
  },
  {
   "cell_type": "code",
   "execution_count": 45,
   "metadata": {},
   "outputs": [
    {
     "data": {
      "application/javascript": "\n            setTimeout(function() {\n                var nbb_cell_id = 45;\n                var nbb_unformatted_code = \"n = int(len(df) * 0.8)\\ntrain = df.Close[:n]\\ntest = df.Close[n:]\";\n                var nbb_formatted_code = \"n = int(len(df) * 0.8)\\ntrain = df.Close[:n]\\ntest = df.Close[n:]\";\n                var nbb_cells = Jupyter.notebook.get_cells();\n                for (var i = 0; i < nbb_cells.length; ++i) {\n                    if (nbb_cells[i].input_prompt_number == nbb_cell_id) {\n                        if (nbb_cells[i].get_text() == nbb_unformatted_code) {\n                             nbb_cells[i].set_text(nbb_formatted_code);\n                        }\n                        break;\n                    }\n                }\n            }, 500);\n            ",
      "text/plain": [
       "<IPython.core.display.Javascript object>"
      ]
     },
     "metadata": {},
     "output_type": "display_data"
    },
    {
     "data": {
      "application/javascript": "\n            setTimeout(function() {\n                var nbb_cell_id = 45;\n                var nbb_unformatted_code = \"n = int(len(df) * 0.8)\\ntrain = df.Close[:n]\\ntest = df.Close[n:]\";\n                var nbb_formatted_code = \"n = int(len(df) * 0.8)\\ntrain = df.Close[:n]\\ntest = df.Close[n:]\";\n                var nbb_cells = Jupyter.notebook.get_cells();\n                for (var i = 0; i < nbb_cells.length; ++i) {\n                    if (nbb_cells[i].input_prompt_number == nbb_cell_id) {\n                        if (nbb_cells[i].get_text() == nbb_unformatted_code) {\n                             nbb_cells[i].set_text(nbb_formatted_code);\n                        }\n                        break;\n                    }\n                }\n            }, 500);\n            ",
      "text/plain": [
       "<IPython.core.display.Javascript object>"
      ]
     },
     "metadata": {},
     "output_type": "display_data"
    },
    {
     "data": {
      "application/javascript": "\n            setTimeout(function() {\n                var nbb_cell_id = 45;\n                var nbb_unformatted_code = \"n = int(len(df) * 0.8)\\ntrain = df.Close[:n]\\ntest = df.Close[n:]\";\n                var nbb_formatted_code = \"n = int(len(df) * 0.8)\\ntrain = df.Close[:n]\\ntest = df.Close[n:]\";\n                var nbb_cells = Jupyter.notebook.get_cells();\n                for (var i = 0; i < nbb_cells.length; ++i) {\n                    if (nbb_cells[i].input_prompt_number == nbb_cell_id) {\n                        if (nbb_cells[i].get_text() == nbb_unformatted_code) {\n                             nbb_cells[i].set_text(nbb_formatted_code);\n                        }\n                        break;\n                    }\n                }\n            }, 500);\n            ",
      "text/plain": [
       "<IPython.core.display.Javascript object>"
      ]
     },
     "metadata": {},
     "output_type": "display_data"
    },
    {
     "data": {
      "application/javascript": "\n            setTimeout(function() {\n                var nbb_cell_id = 45;\n                var nbb_unformatted_code = \"n = int(len(df) * 0.8)\\ntrain = df.Close[:n]\\ntest = df.Close[n:]\";\n                var nbb_formatted_code = \"n = int(len(df) * 0.8)\\ntrain = df.Close[:n]\\ntest = df.Close[n:]\";\n                var nbb_cells = Jupyter.notebook.get_cells();\n                for (var i = 0; i < nbb_cells.length; ++i) {\n                    if (nbb_cells[i].input_prompt_number == nbb_cell_id) {\n                        if (nbb_cells[i].get_text() == nbb_unformatted_code) {\n                             nbb_cells[i].set_text(nbb_formatted_code);\n                        }\n                        break;\n                    }\n                }\n            }, 500);\n            ",
      "text/plain": [
       "<IPython.core.display.Javascript object>"
      ]
     },
     "metadata": {},
     "output_type": "display_data"
    }
   ],
   "source": [
    "n = int(len(df) * 0.8)\n",
    "train = df.Close[:n]\n",
    "test = df.Close[n:]"
   ]
  },
  {
   "cell_type": "code",
   "execution_count": 46,
   "metadata": {},
   "outputs": [
    {
     "name": "stdout",
     "output_type": "stream",
     "text": [
      "800\n",
      "200\n"
     ]
    },
    {
     "data": {
      "application/javascript": "\n            setTimeout(function() {\n                var nbb_cell_id = 46;\n                var nbb_unformatted_code = \"print(len(train))\\nprint(len(test))\";\n                var nbb_formatted_code = \"print(len(train))\\nprint(len(test))\";\n                var nbb_cells = Jupyter.notebook.get_cells();\n                for (var i = 0; i < nbb_cells.length; ++i) {\n                    if (nbb_cells[i].input_prompt_number == nbb_cell_id) {\n                        if (nbb_cells[i].get_text() == nbb_unformatted_code) {\n                             nbb_cells[i].set_text(nbb_formatted_code);\n                        }\n                        break;\n                    }\n                }\n            }, 500);\n            ",
      "text/plain": [
       "<IPython.core.display.Javascript object>"
      ]
     },
     "metadata": {},
     "output_type": "display_data"
    },
    {
     "data": {
      "application/javascript": "\n            setTimeout(function() {\n                var nbb_cell_id = 46;\n                var nbb_unformatted_code = \"print(len(train))\\nprint(len(test))\";\n                var nbb_formatted_code = \"print(len(train))\\nprint(len(test))\";\n                var nbb_cells = Jupyter.notebook.get_cells();\n                for (var i = 0; i < nbb_cells.length; ++i) {\n                    if (nbb_cells[i].input_prompt_number == nbb_cell_id) {\n                        if (nbb_cells[i].get_text() == nbb_unformatted_code) {\n                             nbb_cells[i].set_text(nbb_formatted_code);\n                        }\n                        break;\n                    }\n                }\n            }, 500);\n            ",
      "text/plain": [
       "<IPython.core.display.Javascript object>"
      ]
     },
     "metadata": {},
     "output_type": "display_data"
    },
    {
     "data": {
      "application/javascript": "\n            setTimeout(function() {\n                var nbb_cell_id = 46;\n                var nbb_unformatted_code = \"print(len(train))\\nprint(len(test))\";\n                var nbb_formatted_code = \"print(len(train))\\nprint(len(test))\";\n                var nbb_cells = Jupyter.notebook.get_cells();\n                for (var i = 0; i < nbb_cells.length; ++i) {\n                    if (nbb_cells[i].input_prompt_number == nbb_cell_id) {\n                        if (nbb_cells[i].get_text() == nbb_unformatted_code) {\n                             nbb_cells[i].set_text(nbb_formatted_code);\n                        }\n                        break;\n                    }\n                }\n            }, 500);\n            ",
      "text/plain": [
       "<IPython.core.display.Javascript object>"
      ]
     },
     "metadata": {},
     "output_type": "display_data"
    },
    {
     "data": {
      "application/javascript": "\n            setTimeout(function() {\n                var nbb_cell_id = 46;\n                var nbb_unformatted_code = \"print(len(train))\\nprint(len(test))\";\n                var nbb_formatted_code = \"print(len(train))\\nprint(len(test))\";\n                var nbb_cells = Jupyter.notebook.get_cells();\n                for (var i = 0; i < nbb_cells.length; ++i) {\n                    if (nbb_cells[i].input_prompt_number == nbb_cell_id) {\n                        if (nbb_cells[i].get_text() == nbb_unformatted_code) {\n                             nbb_cells[i].set_text(nbb_formatted_code);\n                        }\n                        break;\n                    }\n                }\n            }, 500);\n            ",
      "text/plain": [
       "<IPython.core.display.Javascript object>"
      ]
     },
     "metadata": {},
     "output_type": "display_data"
    }
   ],
   "source": [
    "print(len(train))\n",
    "print(len(test))"
   ]
  },
  {
   "cell_type": "code",
   "execution_count": 68,
   "metadata": {},
   "outputs": [
    {
     "name": "stderr",
     "output_type": "stream",
     "text": [
      "C:\\Users\\pmellett\\Anaconda3\\envs\\PythonAdv\\lib\\site-packages\\statsmodels\\tsa\\arima_model.py:472: FutureWarning: \n",
      "statsmodels.tsa.arima_model.ARMA and statsmodels.tsa.arima_model.ARIMA have\n",
      "been deprecated in favor of statsmodels.tsa.arima.model.ARIMA (note the .\n",
      "between arima and model) and\n",
      "statsmodels.tsa.SARIMAX. These will be removed after the 0.12 release.\n",
      "\n",
      "statsmodels.tsa.arima.model.ARIMA makes use of the statespace framework and\n",
      "is both well tested and maintained.\n",
      "\n",
      "To silence this warning and continue using ARMA and ARIMA until they are\n",
      "removed, use:\n",
      "\n",
      "import warnings\n",
      "warnings.filterwarnings('ignore', 'statsmodels.tsa.arima_model.ARMA',\n",
      "                        FutureWarning)\n",
      "warnings.filterwarnings('ignore', 'statsmodels.tsa.arima_model.ARIMA',\n",
      "                        FutureWarning)\n",
      "\n",
      "  warnings.warn(ARIMA_DEPRECATION_WARN, FutureWarning)\n",
      "C:\\Users\\pmellett\\Anaconda3\\envs\\PythonAdv\\lib\\site-packages\\statsmodels\\base\\model.py:548: HessianInversionWarning: Inverting hessian failed, no bse or cov_params available\n",
      "  'available', HessianInversionWarning)\n",
      "C:\\Users\\pmellett\\Anaconda3\\envs\\PythonAdv\\lib\\site-packages\\statsmodels\\tsa\\arima_model.py:472: FutureWarning: \n",
      "statsmodels.tsa.arima_model.ARMA and statsmodels.tsa.arima_model.ARIMA have\n",
      "been deprecated in favor of statsmodels.tsa.arima.model.ARIMA (note the .\n",
      "between arima and model) and\n",
      "statsmodels.tsa.SARIMAX. These will be removed after the 0.12 release.\n",
      "\n",
      "statsmodels.tsa.arima.model.ARIMA makes use of the statespace framework and\n",
      "is both well tested and maintained.\n",
      "\n",
      "To silence this warning and continue using ARMA and ARIMA until they are\n",
      "removed, use:\n",
      "\n",
      "import warnings\n",
      "warnings.filterwarnings('ignore', 'statsmodels.tsa.arima_model.ARMA',\n",
      "                        FutureWarning)\n",
      "warnings.filterwarnings('ignore', 'statsmodels.tsa.arima_model.ARIMA',\n",
      "                        FutureWarning)\n",
      "\n",
      "  warnings.warn(ARIMA_DEPRECATION_WARN, FutureWarning)\n"
     ]
    },
    {
     "data": {
      "application/javascript": "\n            setTimeout(function() {\n                var nbb_cell_id = 68;\n                var nbb_unformatted_code = \"step = 200\\n\\nmodel = ARIMA(train, order=(9, 1, 4))\\nresult = model.fit(disp=0)\\n\\n# Forecast\\nfc, se, conf = result.forecast(step)\";\n                var nbb_formatted_code = \"step = 200\\n\\nmodel = ARIMA(train, order=(9, 1, 4))\\nresult = model.fit(disp=0)\\n\\n# Forecast\\nfc, se, conf = result.forecast(step)\";\n                var nbb_cells = Jupyter.notebook.get_cells();\n                for (var i = 0; i < nbb_cells.length; ++i) {\n                    if (nbb_cells[i].input_prompt_number == nbb_cell_id) {\n                        if (nbb_cells[i].get_text() == nbb_unformatted_code) {\n                             nbb_cells[i].set_text(nbb_formatted_code);\n                        }\n                        break;\n                    }\n                }\n            }, 500);\n            ",
      "text/plain": [
       "<IPython.core.display.Javascript object>"
      ]
     },
     "metadata": {},
     "output_type": "display_data"
    },
    {
     "data": {
      "application/javascript": "\n            setTimeout(function() {\n                var nbb_cell_id = 68;\n                var nbb_unformatted_code = \"step = 200\\n\\nmodel = ARIMA(train, order=(9, 1, 4))\\nresult = model.fit(disp=0)\\n\\n# Forecast\\nfc, se, conf = result.forecast(step)\";\n                var nbb_formatted_code = \"step = 200\\n\\nmodel = ARIMA(train, order=(9, 1, 4))\\nresult = model.fit(disp=0)\\n\\n# Forecast\\nfc, se, conf = result.forecast(step)\";\n                var nbb_cells = Jupyter.notebook.get_cells();\n                for (var i = 0; i < nbb_cells.length; ++i) {\n                    if (nbb_cells[i].input_prompt_number == nbb_cell_id) {\n                        if (nbb_cells[i].get_text() == nbb_unformatted_code) {\n                             nbb_cells[i].set_text(nbb_formatted_code);\n                        }\n                        break;\n                    }\n                }\n            }, 500);\n            ",
      "text/plain": [
       "<IPython.core.display.Javascript object>"
      ]
     },
     "metadata": {},
     "output_type": "display_data"
    },
    {
     "data": {
      "application/javascript": "\n            setTimeout(function() {\n                var nbb_cell_id = 68;\n                var nbb_unformatted_code = \"step = 200\\n\\nmodel = ARIMA(train, order=(9, 1, 4))\\nresult = model.fit(disp=0)\\n\\n# Forecast\\nfc, se, conf = result.forecast(step)\";\n                var nbb_formatted_code = \"step = 200\\n\\nmodel = ARIMA(train, order=(9, 1, 4))\\nresult = model.fit(disp=0)\\n\\n# Forecast\\nfc, se, conf = result.forecast(step)\";\n                var nbb_cells = Jupyter.notebook.get_cells();\n                for (var i = 0; i < nbb_cells.length; ++i) {\n                    if (nbb_cells[i].input_prompt_number == nbb_cell_id) {\n                        if (nbb_cells[i].get_text() == nbb_unformatted_code) {\n                             nbb_cells[i].set_text(nbb_formatted_code);\n                        }\n                        break;\n                    }\n                }\n            }, 500);\n            ",
      "text/plain": [
       "<IPython.core.display.Javascript object>"
      ]
     },
     "metadata": {},
     "output_type": "display_data"
    },
    {
     "data": {
      "application/javascript": "\n            setTimeout(function() {\n                var nbb_cell_id = 68;\n                var nbb_unformatted_code = \"step = 200\\n\\nmodel = ARIMA(train, order=(9, 1, 4))\\nresult = model.fit(disp=0)\\n\\n# Forecast\\nfc, se, conf = result.forecast(step)\";\n                var nbb_formatted_code = \"step = 200\\n\\nmodel = ARIMA(train, order=(9, 1, 4))\\nresult = model.fit(disp=0)\\n\\n# Forecast\\nfc, se, conf = result.forecast(step)\";\n                var nbb_cells = Jupyter.notebook.get_cells();\n                for (var i = 0; i < nbb_cells.length; ++i) {\n                    if (nbb_cells[i].input_prompt_number == nbb_cell_id) {\n                        if (nbb_cells[i].get_text() == nbb_unformatted_code) {\n                             nbb_cells[i].set_text(nbb_formatted_code);\n                        }\n                        break;\n                    }\n                }\n            }, 500);\n            ",
      "text/plain": [
       "<IPython.core.display.Javascript object>"
      ]
     },
     "metadata": {},
     "output_type": "display_data"
    }
   ],
   "source": [
    "step = 200\n",
    "\n",
    "model = ARIMA(train, order=(9, 1, 4))\n",
    "result = model.fit(disp=0)\n",
    "\n",
    "# Forecast\n",
    "fc, se, conf = result.forecast(step)"
   ]
  },
  {
   "cell_type": "code",
   "execution_count": 69,
   "metadata": {},
   "outputs": [
    {
     "data": {
      "text/html": [
       "<table class=\"simpletable\">\n",
       "<caption>ARIMA Model Results</caption>\n",
       "<tr>\n",
       "  <th>Dep. Variable:</th>      <td>D.Close</td>     <th>  No. Observations:  </th>    <td>799</td>   \n",
       "</tr>\n",
       "<tr>\n",
       "  <th>Model:</th>          <td>ARIMA(9, 1, 4)</td>  <th>  Log Likelihood     </th> <td>-6491.005</td>\n",
       "</tr>\n",
       "<tr>\n",
       "  <th>Method:</th>             <td>css-mle</td>     <th>  S.D. of innovations</th>  <td>813.553</td> \n",
       "</tr>\n",
       "<tr>\n",
       "  <th>Date:</th>          <td>Fri, 12 Nov 2021</td> <th>  AIC                </th> <td>13012.010</td>\n",
       "</tr>\n",
       "<tr>\n",
       "  <th>Time:</th>              <td>11:14:13</td>     <th>  BIC                </th> <td>13082.260</td>\n",
       "</tr>\n",
       "<tr>\n",
       "  <th>Sample:</th>                <td>1</td>        <th>  HQIC               </th> <td>13038.998</td>\n",
       "</tr>\n",
       "<tr>\n",
       "  <th></th>                       <td> </td>        <th>                     </th>     <td> </td>    \n",
       "</tr>\n",
       "</table>\n",
       "<table class=\"simpletable\">\n",
       "<tr>\n",
       "        <td></td>           <th>coef</th>     <th>std err</th>      <th>z</th>      <th>P>|z|</th>  <th>[0.025</th>    <th>0.975]</th>  \n",
       "</tr>\n",
       "<tr>\n",
       "  <th>const</th>         <td>   58.0725</td> <td>   32.175</td> <td>    1.805</td> <td> 0.071</td> <td>   -4.990</td> <td>  121.135</td>\n",
       "</tr>\n",
       "<tr>\n",
       "  <th>ar.L1.D.Close</th> <td>   -0.1229</td> <td>    0.323</td> <td>   -0.380</td> <td> 0.704</td> <td>   -0.756</td> <td>    0.511</td>\n",
       "</tr>\n",
       "<tr>\n",
       "  <th>ar.L2.D.Close</th> <td>   -0.4213</td> <td>    0.204</td> <td>   -2.070</td> <td> 0.038</td> <td>   -0.820</td> <td>   -0.022</td>\n",
       "</tr>\n",
       "<tr>\n",
       "  <th>ar.L3.D.Close</th> <td>   -0.4859</td> <td>    0.210</td> <td>   -2.319</td> <td> 0.020</td> <td>   -0.897</td> <td>   -0.075</td>\n",
       "</tr>\n",
       "<tr>\n",
       "  <th>ar.L4.D.Close</th> <td>    0.3391</td> <td>    0.258</td> <td>    1.313</td> <td> 0.189</td> <td>   -0.167</td> <td>    0.845</td>\n",
       "</tr>\n",
       "<tr>\n",
       "  <th>ar.L5.D.Close</th> <td>    0.0715</td> <td>    0.048</td> <td>    1.496</td> <td> 0.135</td> <td>   -0.022</td> <td>    0.165</td>\n",
       "</tr>\n",
       "<tr>\n",
       "  <th>ar.L6.D.Close</th> <td>    0.0729</td> <td>    0.049</td> <td>    1.483</td> <td> 0.138</td> <td>   -0.023</td> <td>    0.169</td>\n",
       "</tr>\n",
       "<tr>\n",
       "  <th>ar.L7.D.Close</th> <td>   -0.0878</td> <td>    0.058</td> <td>   -1.510</td> <td> 0.131</td> <td>   -0.202</td> <td>    0.026</td>\n",
       "</tr>\n",
       "<tr>\n",
       "  <th>ar.L8.D.Close</th> <td>    0.0288</td> <td>    0.038</td> <td>    0.751</td> <td> 0.453</td> <td>   -0.046</td> <td>    0.104</td>\n",
       "</tr>\n",
       "<tr>\n",
       "  <th>ar.L9.D.Close</th> <td>   -0.0720</td> <td>    0.041</td> <td>   -1.762</td> <td> 0.078</td> <td>   -0.152</td> <td>    0.008</td>\n",
       "</tr>\n",
       "<tr>\n",
       "  <th>ma.L1.D.Close</th> <td>    0.1243</td> <td>    0.323</td> <td>    0.385</td> <td> 0.700</td> <td>   -0.508</td> <td>    0.757</td>\n",
       "</tr>\n",
       "<tr>\n",
       "  <th>ma.L2.D.Close</th> <td>    0.4834</td> <td>    0.202</td> <td>    2.395</td> <td> 0.017</td> <td>    0.088</td> <td>    0.879</td>\n",
       "</tr>\n",
       "<tr>\n",
       "  <th>ma.L3.D.Close</th> <td>    0.6085</td> <td>    0.229</td> <td>    2.661</td> <td> 0.008</td> <td>    0.160</td> <td>    1.057</td>\n",
       "</tr>\n",
       "<tr>\n",
       "  <th>ma.L4.D.Close</th> <td>   -0.3415</td> <td>    0.302</td> <td>   -1.131</td> <td> 0.258</td> <td>   -0.933</td> <td>    0.250</td>\n",
       "</tr>\n",
       "</table>\n",
       "<table class=\"simpletable\">\n",
       "<caption>Roots</caption>\n",
       "<tr>\n",
       "    <td></td>   <th>            Real</th>  <th>         Imaginary</th> <th>         Modulus</th>  <th>        Frequency</th>\n",
       "</tr>\n",
       "<tr>\n",
       "  <th>AR.1</th> <td>          -1.0659</td> <td>          -0.0000j</td> <td>           1.0659</td> <td>          -0.5000</td>\n",
       "</tr>\n",
       "<tr>\n",
       "  <th>AR.2</th> <td>           0.2026</td> <td>          -1.0086j</td> <td>           1.0288</td> <td>          -0.2185</td>\n",
       "</tr>\n",
       "<tr>\n",
       "  <th>AR.3</th> <td>           0.2026</td> <td>          +1.0086j</td> <td>           1.0288</td> <td>           0.2185</td>\n",
       "</tr>\n",
       "<tr>\n",
       "  <th>AR.4</th> <td>          -1.0667</td> <td>          -0.9996j</td> <td>           1.4618</td> <td>          -0.3802</td>\n",
       "</tr>\n",
       "<tr>\n",
       "  <th>AR.5</th> <td>          -1.0667</td> <td>          +0.9996j</td> <td>           1.4618</td> <td>           0.3802</td>\n",
       "</tr>\n",
       "<tr>\n",
       "  <th>AR.6</th> <td>           1.3906</td> <td>          -0.4986j</td> <td>           1.4773</td> <td>          -0.0548</td>\n",
       "</tr>\n",
       "<tr>\n",
       "  <th>AR.7</th> <td>           1.3906</td> <td>          +0.4986j</td> <td>           1.4773</td> <td>           0.0548</td>\n",
       "</tr>\n",
       "<tr>\n",
       "  <th>AR.8</th> <td>           0.2065</td> <td>          -1.6117j</td> <td>           1.6249</td> <td>          -0.2297</td>\n",
       "</tr>\n",
       "<tr>\n",
       "  <th>AR.9</th> <td>           0.2065</td> <td>          +1.6117j</td> <td>           1.6249</td> <td>           0.2297</td>\n",
       "</tr>\n",
       "<tr>\n",
       "  <th>MA.1</th> <td>          -1.1424</td> <td>          -0.0000j</td> <td>           1.1424</td> <td>          -0.5000</td>\n",
       "</tr>\n",
       "<tr>\n",
       "  <th>MA.2</th> <td>           0.1805</td> <td>          -0.9836j</td> <td>           1.0000</td> <td>          -0.2211</td>\n",
       "</tr>\n",
       "<tr>\n",
       "  <th>MA.3</th> <td>           0.1805</td> <td>          +0.9836j</td> <td>           1.0000</td> <td>           0.2211</td>\n",
       "</tr>\n",
       "<tr>\n",
       "  <th>MA.4</th> <td>           2.5635</td> <td>          -0.0000j</td> <td>           2.5635</td> <td>          -0.0000</td>\n",
       "</tr>\n",
       "</table>"
      ],
      "text/plain": [
       "<class 'statsmodels.iolib.summary.Summary'>\n",
       "\"\"\"\n",
       "                             ARIMA Model Results                              \n",
       "==============================================================================\n",
       "Dep. Variable:                D.Close   No. Observations:                  799\n",
       "Model:                 ARIMA(9, 1, 4)   Log Likelihood               -6491.005\n",
       "Method:                       css-mle   S.D. of innovations            813.553\n",
       "Date:                Fri, 12 Nov 2021   AIC                          13012.010\n",
       "Time:                        11:14:13   BIC                          13082.260\n",
       "Sample:                             1   HQIC                         13038.998\n",
       "                                                                              \n",
       "=================================================================================\n",
       "                    coef    std err          z      P>|z|      [0.025      0.975]\n",
       "---------------------------------------------------------------------------------\n",
       "const            58.0725     32.175      1.805      0.071      -4.990     121.135\n",
       "ar.L1.D.Close    -0.1229      0.323     -0.380      0.704      -0.756       0.511\n",
       "ar.L2.D.Close    -0.4213      0.204     -2.070      0.038      -0.820      -0.022\n",
       "ar.L3.D.Close    -0.4859      0.210     -2.319      0.020      -0.897      -0.075\n",
       "ar.L4.D.Close     0.3391      0.258      1.313      0.189      -0.167       0.845\n",
       "ar.L5.D.Close     0.0715      0.048      1.496      0.135      -0.022       0.165\n",
       "ar.L6.D.Close     0.0729      0.049      1.483      0.138      -0.023       0.169\n",
       "ar.L7.D.Close    -0.0878      0.058     -1.510      0.131      -0.202       0.026\n",
       "ar.L8.D.Close     0.0288      0.038      0.751      0.453      -0.046       0.104\n",
       "ar.L9.D.Close    -0.0720      0.041     -1.762      0.078      -0.152       0.008\n",
       "ma.L1.D.Close     0.1243      0.323      0.385      0.700      -0.508       0.757\n",
       "ma.L2.D.Close     0.4834      0.202      2.395      0.017       0.088       0.879\n",
       "ma.L3.D.Close     0.6085      0.229      2.661      0.008       0.160       1.057\n",
       "ma.L4.D.Close    -0.3415      0.302     -1.131      0.258      -0.933       0.250\n",
       "                                    Roots                                    \n",
       "=============================================================================\n",
       "                  Real          Imaginary           Modulus         Frequency\n",
       "-----------------------------------------------------------------------------\n",
       "AR.1           -1.0659           -0.0000j            1.0659           -0.5000\n",
       "AR.2            0.2026           -1.0086j            1.0288           -0.2185\n",
       "AR.3            0.2026           +1.0086j            1.0288            0.2185\n",
       "AR.4           -1.0667           -0.9996j            1.4618           -0.3802\n",
       "AR.5           -1.0667           +0.9996j            1.4618            0.3802\n",
       "AR.6            1.3906           -0.4986j            1.4773           -0.0548\n",
       "AR.7            1.3906           +0.4986j            1.4773            0.0548\n",
       "AR.8            0.2065           -1.6117j            1.6249           -0.2297\n",
       "AR.9            0.2065           +1.6117j            1.6249            0.2297\n",
       "MA.1           -1.1424           -0.0000j            1.1424           -0.5000\n",
       "MA.2            0.1805           -0.9836j            1.0000           -0.2211\n",
       "MA.3            0.1805           +0.9836j            1.0000            0.2211\n",
       "MA.4            2.5635           -0.0000j            2.5635           -0.0000\n",
       "-----------------------------------------------------------------------------\n",
       "\"\"\""
      ]
     },
     "execution_count": 69,
     "metadata": {},
     "output_type": "execute_result"
    },
    {
     "data": {
      "application/javascript": "\n            setTimeout(function() {\n                var nbb_cell_id = 69;\n                var nbb_unformatted_code = \"result.summary()\";\n                var nbb_formatted_code = \"result.summary()\";\n                var nbb_cells = Jupyter.notebook.get_cells();\n                for (var i = 0; i < nbb_cells.length; ++i) {\n                    if (nbb_cells[i].input_prompt_number == nbb_cell_id) {\n                        if (nbb_cells[i].get_text() == nbb_unformatted_code) {\n                             nbb_cells[i].set_text(nbb_formatted_code);\n                        }\n                        break;\n                    }\n                }\n            }, 500);\n            ",
      "text/plain": [
       "<IPython.core.display.Javascript object>"
      ]
     },
     "metadata": {},
     "output_type": "display_data"
    },
    {
     "data": {
      "application/javascript": "\n            setTimeout(function() {\n                var nbb_cell_id = 69;\n                var nbb_unformatted_code = \"result.summary()\";\n                var nbb_formatted_code = \"result.summary()\";\n                var nbb_cells = Jupyter.notebook.get_cells();\n                for (var i = 0; i < nbb_cells.length; ++i) {\n                    if (nbb_cells[i].input_prompt_number == nbb_cell_id) {\n                        if (nbb_cells[i].get_text() == nbb_unformatted_code) {\n                             nbb_cells[i].set_text(nbb_formatted_code);\n                        }\n                        break;\n                    }\n                }\n            }, 500);\n            ",
      "text/plain": [
       "<IPython.core.display.Javascript object>"
      ]
     },
     "metadata": {},
     "output_type": "display_data"
    },
    {
     "data": {
      "application/javascript": "\n            setTimeout(function() {\n                var nbb_cell_id = 69;\n                var nbb_unformatted_code = \"result.summary()\";\n                var nbb_formatted_code = \"result.summary()\";\n                var nbb_cells = Jupyter.notebook.get_cells();\n                for (var i = 0; i < nbb_cells.length; ++i) {\n                    if (nbb_cells[i].input_prompt_number == nbb_cell_id) {\n                        if (nbb_cells[i].get_text() == nbb_unformatted_code) {\n                             nbb_cells[i].set_text(nbb_formatted_code);\n                        }\n                        break;\n                    }\n                }\n            }, 500);\n            ",
      "text/plain": [
       "<IPython.core.display.Javascript object>"
      ]
     },
     "metadata": {},
     "output_type": "display_data"
    },
    {
     "data": {
      "application/javascript": "\n            setTimeout(function() {\n                var nbb_cell_id = 69;\n                var nbb_unformatted_code = \"result.summary()\";\n                var nbb_formatted_code = \"result.summary()\";\n                var nbb_cells = Jupyter.notebook.get_cells();\n                for (var i = 0; i < nbb_cells.length; ++i) {\n                    if (nbb_cells[i].input_prompt_number == nbb_cell_id) {\n                        if (nbb_cells[i].get_text() == nbb_unformatted_code) {\n                             nbb_cells[i].set_text(nbb_formatted_code);\n                        }\n                        break;\n                    }\n                }\n            }, 500);\n            ",
      "text/plain": [
       "<IPython.core.display.Javascript object>"
      ]
     },
     "metadata": {},
     "output_type": "display_data"
    }
   ],
   "source": [
    "result.summary()"
   ]
  },
  {
   "cell_type": "markdown",
   "metadata": {},
   "source": [
    "## Forecast the first Array to check "
   ]
  },
  {
   "cell_type": "code",
   "execution_count": 70,
   "metadata": {},
   "outputs": [
    {
     "data": {
      "text/plain": [
       "array([50211.04536604, 49815.05310274, 49750.08175165, 50014.77142811,\n",
       "       50287.58281791, 50249.46558152, 50298.79045718, 50325.23940916,\n",
       "       50640.857858  , 50672.79244929, 50657.76149177, 50588.28166298,\n",
       "       50789.72395895, 50909.21001346, 50962.88502889, 50852.68429573,\n",
       "       50949.61172026, 51084.83329014, 51223.14661438, 51156.0776636 ,\n",
       "       51166.9883078 , 51253.09078617, 51434.17720622, 51449.22016259,\n",
       "       51434.51104908, 51449.27306583, 51612.26262232, 51702.05483118,\n",
       "       51719.47669318, 51688.57855485, 51791.77791362, 51912.93007617,\n",
       "       51988.40585826, 51959.85493942, 51999.92651089, 52103.30653676,\n",
       "       52223.54220274, 52236.50419471, 52243.05774604, 52301.06279505,\n",
       "       52429.33829889, 52494.12580093, 52507.40806807, 52524.19346689,\n",
       "       52625.4814342 , 52723.43831537, 52770.64400467, 52773.0816726 ,\n",
       "       52833.06537279, 52932.2965289 , 53015.70649182, 53033.90301457,\n",
       "       53062.79775356, 53137.97284773, 53238.9848752 , 53289.05415798,\n",
       "       53311.2599835 , 53355.87781412, 53449.5266085 , 53527.51373496,\n",
       "       53565.61352877, 53591.57790461, 53661.52984334, 53749.51585234,\n",
       "       53812.47750905, 53839.78218976, 53885.56352933, 53964.15078668,\n",
       "       54045.3023782 , 54089.43509489, 54123.54653493, 54182.63429084,\n",
       "       54266.53481558, 54330.90715049, 54369.45203815, 54411.7853658 ,\n",
       "       54484.45353898, 54560.94840933, 54614.19126974, 54651.2171525 ,\n",
       "       54707.47800354, 54783.16578632, 54851.17214743, 54895.01495188,\n",
       "       54939.55731906, 55004.6738589 , 55079.37294452, 55136.07827321,\n",
       "       55178.92706638, 55231.51739949, 55302.76393131, 55370.22530373,\n",
       "       55420.2260134 , 55465.60421532, 55527.13271519, 55597.8764114 ,\n",
       "       55658.1394589 , 55704.50960362, 55756.5664547 , 55822.89292796,\n",
       "       55890.27806104, 55943.6758757 , 55991.57328858, 56049.78027571,\n",
       "       56117.881895  , 56179.32480479, 56229.53156541, 56281.10839893,\n",
       "       56344.40835297, 56410.35468971, 56466.7499397 , 56516.50809093,\n",
       "       56573.20127971, 56638.39670907, 56700.69106033, 56753.46907489,\n",
       "       56805.69523292, 56866.37367289, 56931.11646405, 56989.14012683,\n",
       "       57041.02262284, 57096.64893227, 57159.74912349, 57221.9490176 ,\n",
       "       57276.95250522, 57329.85521258, 57388.93806198, 57452.19803471,\n",
       "       57511.38018118, 57564.90217433, 57620.25373363, 57681.51926671,\n",
       "       57743.44579031, 57799.91929992, 57853.7919722 , 57911.71734706,\n",
       "       57973.74897022, 58033.43153223, 58088.42111997, 58143.75328622,\n",
       "       58203.72636906, 58265.08116726, 58322.64646501, 58377.39329837,\n",
       "       58434.70043971, 58495.59559942, 58555.49661444, 58611.57857178,\n",
       "       58667.18346481, 58726.17157202, 58786.94537881, 58845.1685581 ,\n",
       "       58900.76342709, 58957.72921392, 59017.73406484, 59077.57778809,\n",
       "       59134.51565209, 59190.46791986, 59248.81253167, 59308.98156479,\n",
       "       59367.609646  , 59423.90428678, 59480.78033327, 59540.06621775,\n",
       "       59599.74152947, 59657.27361253, 59713.63180656, 59771.55218387,\n",
       "       59831.19233703, 59890.00283238, 59946.88200451, 60003.79536218,\n",
       "       60062.55643807, 60121.98323184, 60179.92767718, 60236.66761604,\n",
       "       60294.35472193, 60353.53529878, 60412.39929612, 60469.72472764,\n",
       "       60526.76627239, 60585.14732974, 60644.31452655, 60702.51212096,\n",
       "       60759.60037725, 60817.17585668, 60875.99000656, 60934.81414682,\n",
       "       60992.47529894, 61049.67853917, 61107.80847189, 61166.72283973,\n",
       "       61225.06462228, 61282.44349373, 61339.99721995, 61398.52541132,\n",
       "       61457.26350773, 61515.159232  , 61572.53607105, 61630.5084566 ])"
      ]
     },
     "execution_count": 70,
     "metadata": {},
     "output_type": "execute_result"
    },
    {
     "data": {
      "application/javascript": "\n            setTimeout(function() {\n                var nbb_cell_id = 70;\n                var nbb_unformatted_code = \"fc\";\n                var nbb_formatted_code = \"fc\";\n                var nbb_cells = Jupyter.notebook.get_cells();\n                for (var i = 0; i < nbb_cells.length; ++i) {\n                    if (nbb_cells[i].input_prompt_number == nbb_cell_id) {\n                        if (nbb_cells[i].get_text() == nbb_unformatted_code) {\n                             nbb_cells[i].set_text(nbb_formatted_code);\n                        }\n                        break;\n                    }\n                }\n            }, 500);\n            ",
      "text/plain": [
       "<IPython.core.display.Javascript object>"
      ]
     },
     "metadata": {},
     "output_type": "display_data"
    },
    {
     "data": {
      "application/javascript": "\n            setTimeout(function() {\n                var nbb_cell_id = 70;\n                var nbb_unformatted_code = \"fc\";\n                var nbb_formatted_code = \"fc\";\n                var nbb_cells = Jupyter.notebook.get_cells();\n                for (var i = 0; i < nbb_cells.length; ++i) {\n                    if (nbb_cells[i].input_prompt_number == nbb_cell_id) {\n                        if (nbb_cells[i].get_text() == nbb_unformatted_code) {\n                             nbb_cells[i].set_text(nbb_formatted_code);\n                        }\n                        break;\n                    }\n                }\n            }, 500);\n            ",
      "text/plain": [
       "<IPython.core.display.Javascript object>"
      ]
     },
     "metadata": {},
     "output_type": "display_data"
    },
    {
     "data": {
      "application/javascript": "\n            setTimeout(function() {\n                var nbb_cell_id = 70;\n                var nbb_unformatted_code = \"fc\";\n                var nbb_formatted_code = \"fc\";\n                var nbb_cells = Jupyter.notebook.get_cells();\n                for (var i = 0; i < nbb_cells.length; ++i) {\n                    if (nbb_cells[i].input_prompt_number == nbb_cell_id) {\n                        if (nbb_cells[i].get_text() == nbb_unformatted_code) {\n                             nbb_cells[i].set_text(nbb_formatted_code);\n                        }\n                        break;\n                    }\n                }\n            }, 500);\n            ",
      "text/plain": [
       "<IPython.core.display.Javascript object>"
      ]
     },
     "metadata": {},
     "output_type": "display_data"
    },
    {
     "data": {
      "application/javascript": "\n            setTimeout(function() {\n                var nbb_cell_id = 70;\n                var nbb_unformatted_code = \"fc\";\n                var nbb_formatted_code = \"fc\";\n                var nbb_cells = Jupyter.notebook.get_cells();\n                for (var i = 0; i < nbb_cells.length; ++i) {\n                    if (nbb_cells[i].input_prompt_number == nbb_cell_id) {\n                        if (nbb_cells[i].get_text() == nbb_unformatted_code) {\n                             nbb_cells[i].set_text(nbb_formatted_code);\n                        }\n                        break;\n                    }\n                }\n            }, 500);\n            ",
      "text/plain": [
       "<IPython.core.display.Javascript object>"
      ]
     },
     "metadata": {},
     "output_type": "display_data"
    }
   ],
   "source": [
    "fc"
   ]
  },
  {
   "cell_type": "markdown",
   "metadata": {},
   "source": [
    "## Look at the confidence Level"
   ]
  },
  {
   "cell_type": "code",
   "execution_count": 71,
   "metadata": {},
   "outputs": [
    {
     "data": {
      "text/plain": [
       "array([[48616.51138262, 51805.57934945],\n",
       "       [47558.46082053, 52071.64538496],\n",
       "       [46927.57346339, 52572.59003992],\n",
       "       [46624.66862107, 53404.87423515],\n",
       "       [46445.05875898, 54130.10687685],\n",
       "       [46003.12472938, 54495.80643367],\n",
       "       [45647.65658565, 54949.92432871],\n",
       "       [45319.71108594, 55330.76773237],\n",
       "       [45300.54241009, 55981.17330591],\n",
       "       [45062.20826518, 56283.37663339],\n",
       "       [44775.07335529, 56540.44962826],\n",
       "       [44433.2240679 , 56743.33925806],\n",
       "       [44363.90944026, 57215.53847764],\n",
       "       [44250.21810627, 57568.20192066],\n",
       "       [44080.9180788 , 57844.85197897],\n",
       "       [43748.71460502, 57956.65398645],\n",
       "       [43609.85095535, 58289.37248516],\n",
       "       [43529.410107  , 58640.25647327],\n",
       "       [43467.24985229, 58979.04337648],\n",
       "       [43208.71586801, 59103.43945919],\n",
       "       [43015.01106459, 59318.96555101],\n",
       "       [42900.9926925 , 59605.18887983],\n",
       "       [42893.45890722, 59974.89550523],\n",
       "       [42735.08957703, 60163.35074816],\n",
       "       [42540.91974835, 60328.10234981],\n",
       "       [42372.96857113, 60525.57756052],\n",
       "       [42356.49258311, 60868.03266154],\n",
       "       [42282.2469876 , 61121.86267476],\n",
       "       [42137.76975833, 61301.18362803],\n",
       "       [41941.56500368, 61435.59210602],\n",
       "       [41875.74604654, 61707.80978071],\n",
       "       [41838.33763366, 61987.52251869],\n",
       "       [41762.35007707, 62214.46163945],\n",
       "       [41583.12286406, 62336.58701479],\n",
       "       [41466.38329198, 62533.46972981],\n",
       "       [41416.64855038, 62789.96452314],\n",
       "       [41391.12576744, 63055.95863804],\n",
       "       [41263.6325646 , 63209.37582483],\n",
       "       [41125.5499623 , 63360.56552977],\n",
       "       [41037.67670003, 63564.44889008],\n",
       "       [41024.16429954, 63834.51229824],\n",
       "       [40954.55071138, 64033.70089049],\n",
       "       [40833.25296172, 64181.56317442],\n",
       "       [40712.82035907, 64335.56657471],\n",
       "       [40676.88514033, 64574.07772807],\n",
       "       [40643.94166694, 64802.93496379],\n",
       "       [40563.5024939 , 64977.78551544],\n",
       "       [40437.22870771, 65108.93463748],\n",
       "       [40365.98533924, 65300.14540634],\n",
       "       [40337.25063372, 65527.34242407],\n",
       "       [40297.20760979, 65734.20537385],\n",
       "       [40193.56999061, 65874.23603852],\n",
       "       [40098.06953429, 66027.52597283],\n",
       "       [40049.03389336, 66226.9118021 ],\n",
       "       [40029.31795879, 66448.65179161],\n",
       "       [39962.24278872, 66615.86552724],\n",
       "       [39866.48722856, 66756.03273844],\n",
       "       [39791.75195237, 66920.00367586],\n",
       "       [39767.32137998, 67131.73183702],\n",
       "       [39731.09986708, 67323.92760285],\n",
       "       [39656.30243225, 67474.92462528],\n",
       "       [39568.22955566, 67614.92625356],\n",
       "       [39523.49783541, 67799.56185128],\n",
       "       [39499.44866908, 67999.58303559],\n",
       "       [39452.97450947, 68171.98050862],\n",
       "       [39371.07924131, 68308.48513822],\n",
       "       [39306.31831064, 68464.80874802],\n",
       "       [39275.22897437, 68653.07259898],\n",
       "       [39249.26253567, 68841.34222073],\n",
       "       [39187.93427041, 68990.93591938],\n",
       "       [39115.80321535, 69131.28985451],\n",
       "       [39068.20632821, 69297.06225348],\n",
       "       [39046.93550933, 69486.13412184],\n",
       "       [39008.44630079, 69653.36800018],\n",
       "       [38944.52822629, 69794.37585001],\n",
       "       [38883.65296595, 69939.91776566],\n",
       "       [38853.3618981 , 70115.54517985],\n",
       "       [38828.88445489, 70293.01236378],\n",
       "       [38782.55856174, 70445.82397774],\n",
       "       [38719.83600013, 70582.59830487],\n",
       "       [38675.83005254, 70739.12595453],\n",
       "       [38652.30575734, 70914.02581529],\n",
       "       [38622.82661378, 71079.51768107],\n",
       "       [38569.88775803, 71220.14214573],\n",
       "       [38517.12952773, 71361.98511039],\n",
       "       [38485.07285546, 71524.27486235],\n",
       "       [38463.93888472, 71694.80700432],\n",
       "       [38426.14104342, 71846.01550301],\n",
       "       [38374.52877784, 71983.32535493],\n",
       "       [38332.33215709, 72130.70264189],\n",
       "       [38309.39459825, 72296.13326438],\n",
       "       [38284.07252022, 72456.37808724],\n",
       "       [38242.00468371, 72598.44734309],\n",
       "       [38195.11248607, 72736.09594456],\n",
       "       [38164.35018348, 72889.91524689],\n",
       "       [38143.78867919, 73051.9641436 ],\n",
       "       [38113.84726797, 73202.43164983],\n",
       "       [38070.28570786, 73338.73349938],\n",
       "       [38032.17490312, 73480.95800627],\n",
       "       [38008.73537168, 73637.05048425],\n",
       "       [37987.40165907, 73793.15446302],\n",
       "       [37952.82390174, 73934.52784967],\n",
       "       [37912.7067729 , 74070.43980426],\n",
       "       [37882.88468378, 74216.67586765],\n",
       "       [37863.62929225, 74372.13449775],\n",
       "       [37838.65860082, 74519.99100876],\n",
       "       [37802.80691342, 74656.25621739],\n",
       "       [37768.23104805, 74793.98574982],\n",
       "       [37745.61838773, 74943.1983182 ],\n",
       "       [37726.4660915 , 75094.24328793],\n",
       "       [37698.4411943 , 75235.0586851 ],\n",
       "       [37663.89137219, 75369.12480966],\n",
       "       [37636.26267578, 75510.13988364],\n",
       "       [37617.62355981, 75659.16985834],\n",
       "       [37596.84725867, 75804.53486198],\n",
       "       [37566.96969515, 75939.96845463],\n",
       "       [37536.53513285, 76074.85533299],\n",
       "       [37514.72596818, 76218.02137759],\n",
       "       [37497.59137576, 76364.64155233],\n",
       "       [37474.35664018, 76503.92361347],\n",
       "       [37445.17178609, 76636.87345959],\n",
       "       [37419.7578022 , 76773.54006235],\n",
       "       [37402.16335359, 76917.33489339],\n",
       "       [37384.29576934, 77059.60226587],\n",
       "       [37359.64924707, 77194.25576336],\n",
       "       [37332.98113927, 77326.72928588],\n",
       "       [37312.62279345, 77465.25333051],\n",
       "       [37296.91209725, 77607.48397217],\n",
       "       [37277.66122771, 77745.09913465],\n",
       "       [37252.99733007, 77876.80701858],\n",
       "       [37230.22243333, 78010.28503394],\n",
       "       [37213.62397505, 78149.41455836],\n",
       "       [37198.19004975, 78288.70153087],\n",
       "       [37177.70935334, 78422.12924651],\n",
       "       [37154.7598987 , 78552.8240457 ],\n",
       "       [37135.98222713, 78687.45246698],\n",
       "       [37121.67206607, 78825.82587437],\n",
       "       [37105.47854794, 78961.38451652],\n",
       "       [37084.86115308, 79091.98108685],\n",
       "       [37064.68209967, 79222.82447278],\n",
       "       [37049.34926287, 79358.10347525],\n",
       "       [37035.80728974, 79494.35504479],\n",
       "       [37018.8517225 , 79626.44120752],\n",
       "       [36999.24888936, 79755.53770737],\n",
       "       [36982.32299783, 79887.07788159],\n",
       "       [36969.27190941, 80021.91928943],\n",
       "       [36955.62257223, 80155.37065665],\n",
       "       [36938.43056858, 80284.72657499],\n",
       "       [36920.88353002, 80413.48339959],\n",
       "       [36906.89320139, 80545.44994266],\n",
       "       [36895.02073252, 80678.8700251 ],\n",
       "       [36880.94004286, 80809.39707333],\n",
       "       [36864.42299416, 80937.10386003],\n",
       "       [36849.39970898, 81066.05871886],\n",
       "       [36837.64802938, 81197.8201003 ],\n",
       "       [36826.07240715, 81329.08316903],\n",
       "       [36811.86013069, 81457.17117349],\n",
       "       [36796.80520251, 81584.1306372 ],\n",
       "       [36784.29649415, 81713.32856919],\n",
       "       [36773.88668994, 81844.07643963],\n",
       "       [36762.24173159, 81972.97756042],\n",
       "       [36748.46566842, 82099.34290515],\n",
       "       [36735.40028825, 82226.1603783 ],\n",
       "       [36724.94104097, 82355.19139453],\n",
       "       [36715.1578007 , 82484.32525825],\n",
       "       [36703.48711935, 82611.06010572],\n",
       "       [36690.79812915, 82736.46548397],\n",
       "       [36679.81523589, 82863.28913185],\n",
       "       [36670.78220453, 82991.60246952],\n",
       "       [36661.19113106, 83118.8145337 ],\n",
       "       [36649.87191177, 83243.89209726],\n",
       "       [36638.72265026, 83368.86807409],\n",
       "       [36629.59219962, 83495.52067653],\n",
       "       [36621.3731307 , 83622.59333298],\n",
       "       [36611.9095444 , 83747.94580997],\n",
       "       [36601.40404264, 83871.93118945],\n",
       "       [36591.98394696, 83996.7254969 ],\n",
       "       [36584.25476876, 84122.81582881],\n",
       "       [36576.44908548, 84248.34950675],\n",
       "       [36567.30338012, 84372.14607517],\n",
       "       [36558.01370463, 84495.51884015],\n",
       "       [36550.21793557, 84620.0767239 ],\n",
       "       [36543.42070816, 84745.20834494],\n",
       "       [36535.87268592, 84869.151556  ],\n",
       "       [36527.37955758, 84991.82119692],\n",
       "       [36519.50893457, 85114.8427788 ],\n",
       "       [36513.05006451, 85238.92994861],\n",
       "       [36506.8138593 , 85362.81443434],\n",
       "       [36499.604568  , 85485.34602988],\n",
       "       [36492.07936538, 85607.27771295],\n",
       "       [36485.62367642, 85729.99326737],\n",
       "       [36480.13862106, 85853.3070584 ],\n",
       "       [36474.280751  , 85975.84849355],\n",
       "       [36467.62222678, 86097.26476068],\n",
       "       [36461.27159185, 86218.72284805],\n",
       "       [36456.05066566, 86341.00015699],\n",
       "       [36451.22876905, 86463.29824641],\n",
       "       [36445.74382055, 86584.57464346],\n",
       "       [36439.88171207, 86705.19043002],\n",
       "       [36434.74990833, 86826.26700487]])"
      ]
     },
     "execution_count": 71,
     "metadata": {},
     "output_type": "execute_result"
    },
    {
     "data": {
      "application/javascript": "\n            setTimeout(function() {\n                var nbb_cell_id = 71;\n                var nbb_unformatted_code = \"conf\";\n                var nbb_formatted_code = \"conf\";\n                var nbb_cells = Jupyter.notebook.get_cells();\n                for (var i = 0; i < nbb_cells.length; ++i) {\n                    if (nbb_cells[i].input_prompt_number == nbb_cell_id) {\n                        if (nbb_cells[i].get_text() == nbb_unformatted_code) {\n                             nbb_cells[i].set_text(nbb_formatted_code);\n                        }\n                        break;\n                    }\n                }\n            }, 500);\n            ",
      "text/plain": [
       "<IPython.core.display.Javascript object>"
      ]
     },
     "metadata": {},
     "output_type": "display_data"
    },
    {
     "data": {
      "application/javascript": "\n            setTimeout(function() {\n                var nbb_cell_id = 71;\n                var nbb_unformatted_code = \"conf\";\n                var nbb_formatted_code = \"conf\";\n                var nbb_cells = Jupyter.notebook.get_cells();\n                for (var i = 0; i < nbb_cells.length; ++i) {\n                    if (nbb_cells[i].input_prompt_number == nbb_cell_id) {\n                        if (nbb_cells[i].get_text() == nbb_unformatted_code) {\n                             nbb_cells[i].set_text(nbb_formatted_code);\n                        }\n                        break;\n                    }\n                }\n            }, 500);\n            ",
      "text/plain": [
       "<IPython.core.display.Javascript object>"
      ]
     },
     "metadata": {},
     "output_type": "display_data"
    },
    {
     "data": {
      "application/javascript": "\n            setTimeout(function() {\n                var nbb_cell_id = 71;\n                var nbb_unformatted_code = \"conf\";\n                var nbb_formatted_code = \"conf\";\n                var nbb_cells = Jupyter.notebook.get_cells();\n                for (var i = 0; i < nbb_cells.length; ++i) {\n                    if (nbb_cells[i].input_prompt_number == nbb_cell_id) {\n                        if (nbb_cells[i].get_text() == nbb_unformatted_code) {\n                             nbb_cells[i].set_text(nbb_formatted_code);\n                        }\n                        break;\n                    }\n                }\n            }, 500);\n            ",
      "text/plain": [
       "<IPython.core.display.Javascript object>"
      ]
     },
     "metadata": {},
     "output_type": "display_data"
    },
    {
     "data": {
      "application/javascript": "\n            setTimeout(function() {\n                var nbb_cell_id = 71;\n                var nbb_unformatted_code = \"conf\";\n                var nbb_formatted_code = \"conf\";\n                var nbb_cells = Jupyter.notebook.get_cells();\n                for (var i = 0; i < nbb_cells.length; ++i) {\n                    if (nbb_cells[i].input_prompt_number == nbb_cell_id) {\n                        if (nbb_cells[i].get_text() == nbb_unformatted_code) {\n                             nbb_cells[i].set_text(nbb_formatted_code);\n                        }\n                        break;\n                    }\n                }\n            }, 500);\n            ",
      "text/plain": [
       "<IPython.core.display.Javascript object>"
      ]
     },
     "metadata": {},
     "output_type": "display_data"
    }
   ],
   "source": [
    "conf"
   ]
  },
  {
   "cell_type": "markdown",
   "metadata": {},
   "source": [
    "Forecast our Lower and Upper Bounds"
   ]
  },
  {
   "cell_type": "code",
   "execution_count": 72,
   "metadata": {},
   "outputs": [
    {
     "data": {
      "application/javascript": "\n            setTimeout(function() {\n                var nbb_cell_id = 72;\n                var nbb_unformatted_code = \"fc = pd.Series(fc, index=test[:step].index)\\nlower = pd.Series(conf[:, 0], index=test[:step].index)\\nupper = pd.Series(conf[:, 1], index=test[:step].index)\";\n                var nbb_formatted_code = \"fc = pd.Series(fc, index=test[:step].index)\\nlower = pd.Series(conf[:, 0], index=test[:step].index)\\nupper = pd.Series(conf[:, 1], index=test[:step].index)\";\n                var nbb_cells = Jupyter.notebook.get_cells();\n                for (var i = 0; i < nbb_cells.length; ++i) {\n                    if (nbb_cells[i].input_prompt_number == nbb_cell_id) {\n                        if (nbb_cells[i].get_text() == nbb_unformatted_code) {\n                             nbb_cells[i].set_text(nbb_formatted_code);\n                        }\n                        break;\n                    }\n                }\n            }, 500);\n            ",
      "text/plain": [
       "<IPython.core.display.Javascript object>"
      ]
     },
     "metadata": {},
     "output_type": "display_data"
    },
    {
     "data": {
      "application/javascript": "\n            setTimeout(function() {\n                var nbb_cell_id = 72;\n                var nbb_unformatted_code = \"fc = pd.Series(fc, index=test[:step].index)\\nlower = pd.Series(conf[:, 0], index=test[:step].index)\\nupper = pd.Series(conf[:, 1], index=test[:step].index)\";\n                var nbb_formatted_code = \"fc = pd.Series(fc, index=test[:step].index)\\nlower = pd.Series(conf[:, 0], index=test[:step].index)\\nupper = pd.Series(conf[:, 1], index=test[:step].index)\";\n                var nbb_cells = Jupyter.notebook.get_cells();\n                for (var i = 0; i < nbb_cells.length; ++i) {\n                    if (nbb_cells[i].input_prompt_number == nbb_cell_id) {\n                        if (nbb_cells[i].get_text() == nbb_unformatted_code) {\n                             nbb_cells[i].set_text(nbb_formatted_code);\n                        }\n                        break;\n                    }\n                }\n            }, 500);\n            ",
      "text/plain": [
       "<IPython.core.display.Javascript object>"
      ]
     },
     "metadata": {},
     "output_type": "display_data"
    },
    {
     "data": {
      "application/javascript": "\n            setTimeout(function() {\n                var nbb_cell_id = 72;\n                var nbb_unformatted_code = \"fc = pd.Series(fc, index=test[:step].index)\\nlower = pd.Series(conf[:, 0], index=test[:step].index)\\nupper = pd.Series(conf[:, 1], index=test[:step].index)\";\n                var nbb_formatted_code = \"fc = pd.Series(fc, index=test[:step].index)\\nlower = pd.Series(conf[:, 0], index=test[:step].index)\\nupper = pd.Series(conf[:, 1], index=test[:step].index)\";\n                var nbb_cells = Jupyter.notebook.get_cells();\n                for (var i = 0; i < nbb_cells.length; ++i) {\n                    if (nbb_cells[i].input_prompt_number == nbb_cell_id) {\n                        if (nbb_cells[i].get_text() == nbb_unformatted_code) {\n                             nbb_cells[i].set_text(nbb_formatted_code);\n                        }\n                        break;\n                    }\n                }\n            }, 500);\n            ",
      "text/plain": [
       "<IPython.core.display.Javascript object>"
      ]
     },
     "metadata": {},
     "output_type": "display_data"
    },
    {
     "data": {
      "application/javascript": "\n            setTimeout(function() {\n                var nbb_cell_id = 72;\n                var nbb_unformatted_code = \"fc = pd.Series(fc, index=test[:step].index)\\nlower = pd.Series(conf[:, 0], index=test[:step].index)\\nupper = pd.Series(conf[:, 1], index=test[:step].index)\";\n                var nbb_formatted_code = \"fc = pd.Series(fc, index=test[:step].index)\\nlower = pd.Series(conf[:, 0], index=test[:step].index)\\nupper = pd.Series(conf[:, 1], index=test[:step].index)\";\n                var nbb_cells = Jupyter.notebook.get_cells();\n                for (var i = 0; i < nbb_cells.length; ++i) {\n                    if (nbb_cells[i].input_prompt_number == nbb_cell_id) {\n                        if (nbb_cells[i].get_text() == nbb_unformatted_code) {\n                             nbb_cells[i].set_text(nbb_formatted_code);\n                        }\n                        break;\n                    }\n                }\n            }, 500);\n            ",
      "text/plain": [
       "<IPython.core.display.Javascript object>"
      ]
     },
     "metadata": {},
     "output_type": "display_data"
    }
   ],
   "source": [
    "fc = pd.Series(fc, index=test[:step].index)\n",
    "lower = pd.Series(conf[:, 0], index=test[:step].index)\n",
    "upper = pd.Series(conf[:, 1], index=test[:step].index)"
   ]
  },
  {
   "cell_type": "markdown",
   "metadata": {},
   "source": [
    "## Plot the Forecast Versus the Actual"
   ]
  },
  {
   "cell_type": "code",
   "execution_count": 73,
   "metadata": {},
   "outputs": [
    {
     "data": {
      "text/plain": [
       "<matplotlib.legend.Legend at 0x2446967b780>"
      ]
     },
     "execution_count": 73,
     "metadata": {},
     "output_type": "execute_result"
    },
    {
     "data": {
      "image/png": "[encoded data removed]",
      "text/plain": [
       "<Figure size 1152x576 with 1 Axes>"
      ]
     },
     "metadata": {
      "needs_background": "light"
     },
     "output_type": "display_data"
    },
    {
     "data": {
      "application/javascript": "\n            setTimeout(function() {\n                var nbb_cell_id = 73;\n                var nbb_unformatted_code = \"plt.figure(figsize=(16, 8))\\nplt.plot(test[:step], label=\\\"Actual BTC\\\")\\nplt.plot(fc, label=\\\"Forecast BTC\\\")\\nplt.fill_between(lower.index, lower, upper, color=\\\"k\\\", alpha=0.2)\\nplt.title(\\\"ARIMA Forecast vs Actual BTC\\\")\\nplt.legend(loc=\\\"upper left\\\")\";\n                var nbb_formatted_code = \"plt.figure(figsize=(16, 8))\\nplt.plot(test[:step], label=\\\"Actual BTC\\\")\\nplt.plot(fc, label=\\\"Forecast BTC\\\")\\nplt.fill_between(lower.index, lower, upper, color=\\\"k\\\", alpha=0.2)\\nplt.title(\\\"ARIMA Forecast vs Actual BTC\\\")\\nplt.legend(loc=\\\"upper left\\\")\";\n                var nbb_cells = Jupyter.notebook.get_cells();\n                for (var i = 0; i < nbb_cells.length; ++i) {\n                    if (nbb_cells[i].input_prompt_number == nbb_cell_id) {\n                        if (nbb_cells[i].get_text() == nbb_unformatted_code) {\n                             nbb_cells[i].set_text(nbb_formatted_code);\n                        }\n                        break;\n                    }\n                }\n            }, 500);\n            ",
      "text/plain": [
       "<IPython.core.display.Javascript object>"
      ]
     },
     "metadata": {},
     "output_type": "display_data"
    },
    {
     "data": {
      "application/javascript": "\n            setTimeout(function() {\n                var nbb_cell_id = 73;\n                var nbb_unformatted_code = \"plt.figure(figsize=(16, 8))\\nplt.plot(test[:step], label=\\\"Actual BTC\\\")\\nplt.plot(fc, label=\\\"Forecast BTC\\\")\\nplt.fill_between(lower.index, lower, upper, color=\\\"k\\\", alpha=0.2)\\nplt.title(\\\"ARIMA Forecast vs Actual BTC\\\")\\nplt.legend(loc=\\\"upper left\\\")\";\n                var nbb_formatted_code = \"plt.figure(figsize=(16, 8))\\nplt.plot(test[:step], label=\\\"Actual BTC\\\")\\nplt.plot(fc, label=\\\"Forecast BTC\\\")\\nplt.fill_between(lower.index, lower, upper, color=\\\"k\\\", alpha=0.2)\\nplt.title(\\\"ARIMA Forecast vs Actual BTC\\\")\\nplt.legend(loc=\\\"upper left\\\")\";\n                var nbb_cells = Jupyter.notebook.get_cells();\n                for (var i = 0; i < nbb_cells.length; ++i) {\n                    if (nbb_cells[i].input_prompt_number == nbb_cell_id) {\n                        if (nbb_cells[i].get_text() == nbb_unformatted_code) {\n                             nbb_cells[i].set_text(nbb_formatted_code);\n                        }\n                        break;\n                    }\n                }\n            }, 500);\n            ",
      "text/plain": [
       "<IPython.core.display.Javascript object>"
      ]
     },
     "metadata": {},
     "output_type": "display_data"
    },
    {
     "data": {
      "application/javascript": "\n            setTimeout(function() {\n                var nbb_cell_id = 73;\n                var nbb_unformatted_code = \"plt.figure(figsize=(16, 8))\\nplt.plot(test[:step], label=\\\"Actual BTC\\\")\\nplt.plot(fc, label=\\\"Forecast BTC\\\")\\nplt.fill_between(lower.index, lower, upper, color=\\\"k\\\", alpha=0.2)\\nplt.title(\\\"ARIMA Forecast vs Actual BTC\\\")\\nplt.legend(loc=\\\"upper left\\\")\";\n                var nbb_formatted_code = \"plt.figure(figsize=(16, 8))\\nplt.plot(test[:step], label=\\\"Actual BTC\\\")\\nplt.plot(fc, label=\\\"Forecast BTC\\\")\\nplt.fill_between(lower.index, lower, upper, color=\\\"k\\\", alpha=0.2)\\nplt.title(\\\"ARIMA Forecast vs Actual BTC\\\")\\nplt.legend(loc=\\\"upper left\\\")\";\n                var nbb_cells = Jupyter.notebook.get_cells();\n                for (var i = 0; i < nbb_cells.length; ++i) {\n                    if (nbb_cells[i].input_prompt_number == nbb_cell_id) {\n                        if (nbb_cells[i].get_text() == nbb_unformatted_code) {\n                             nbb_cells[i].set_text(nbb_formatted_code);\n                        }\n                        break;\n                    }\n                }\n            }, 500);\n            ",
      "text/plain": [
       "<IPython.core.display.Javascript object>"
      ]
     },
     "metadata": {},
     "output_type": "display_data"
    },
    {
     "data": {
      "application/javascript": "\n            setTimeout(function() {\n                var nbb_cell_id = 73;\n                var nbb_unformatted_code = \"plt.figure(figsize=(16, 8))\\nplt.plot(test[:step], label=\\\"Actual BTC\\\")\\nplt.plot(fc, label=\\\"Forecast BTC\\\")\\nplt.fill_between(lower.index, lower, upper, color=\\\"k\\\", alpha=0.2)\\nplt.title(\\\"ARIMA Forecast vs Actual BTC\\\")\\nplt.legend(loc=\\\"upper left\\\")\";\n                var nbb_formatted_code = \"plt.figure(figsize=(16, 8))\\nplt.plot(test[:step], label=\\\"Actual BTC\\\")\\nplt.plot(fc, label=\\\"Forecast BTC\\\")\\nplt.fill_between(lower.index, lower, upper, color=\\\"k\\\", alpha=0.2)\\nplt.title(\\\"ARIMA Forecast vs Actual BTC\\\")\\nplt.legend(loc=\\\"upper left\\\")\";\n                var nbb_cells = Jupyter.notebook.get_cells();\n                for (var i = 0; i < nbb_cells.length; ++i) {\n                    if (nbb_cells[i].input_prompt_number == nbb_cell_id) {\n                        if (nbb_cells[i].get_text() == nbb_unformatted_code) {\n                             nbb_cells[i].set_text(nbb_formatted_code);\n                        }\n                        break;\n                    }\n                }\n            }, 500);\n            ",
      "text/plain": [
       "<IPython.core.display.Javascript object>"
      ]
     },
     "metadata": {},
     "output_type": "display_data"
    }
   ],
   "source": [
    "plt.figure(figsize=(16, 8))\n",
    "plt.plot(test[:step], label=\"Actual BTC\")\n",
    "plt.plot(fc, label=\"Forecast BTC\")\n",
    "plt.fill_between(lower.index, lower, upper, color=\"k\", alpha=0.2)\n",
    "plt.title(\"ARIMA Forecast vs Actual BTC\")\n",
    "plt.legend(loc=\"upper left\")"
   ]
  },
  {
   "cell_type": "markdown",
   "metadata": {},
   "source": [
    "We can run some code to try and loop throught and find the optimal p q d"
   ]
  },
  {
   "cell_type": "code",
   "execution_count": 74,
   "metadata": {},
   "outputs": [
    {
     "name": "stdout",
     "output_type": "stream",
     "text": [
      "Performing stepwise search to minimize aic\n",
      " ARIMA(1,1,1)(0,0,0)[0] intercept   : AIC=16886.371, Time=0.12 sec\n",
      " ARIMA(0,1,0)(0,0,0)[0] intercept   : AIC=16886.055, Time=0.03 sec\n",
      " ARIMA(1,1,0)(0,0,0)[0] intercept   : AIC=16884.609, Time=0.07 sec\n",
      " ARIMA(0,1,1)(0,0,0)[0] intercept   : AIC=16884.794, Time=0.08 sec\n",
      " ARIMA(0,1,0)(0,0,0)[0]             : AIC=16887.213, Time=0.01 sec\n",
      " ARIMA(2,1,0)(0,0,0)[0] intercept   : AIC=16886.098, Time=0.06 sec\n",
      " ARIMA(2,1,1)(0,0,0)[0] intercept   : AIC=16887.995, Time=0.25 sec\n",
      " ARIMA(1,1,0)(0,0,0)[0]             : AIC=16886.158, Time=0.04 sec\n",
      "\n",
      "Best model:  ARIMA(1,1,0)(0,0,0)[0] intercept\n",
      "Total fit time: 0.667 seconds\n"
     ]
    },
    {
     "data": {
      "application/javascript": "\n            setTimeout(function() {\n                var nbb_cell_id = 74;\n                var nbb_unformatted_code = \"model = auto_arima(\\n    df.Close,\\n    start_p=1,\\n    start_q=1,\\n    test=\\\"adf\\\",\\n    max_p=9,\\n    max_q=9,\\n    m=1,  # frequency of series\\n    d=None,  # determine 'd'\\n    seasonal=False,  # no seasonality\\n    trace=True,\\n    stepwise=True,\\n)\";\n                var nbb_formatted_code = \"model = auto_arima(\\n    df.Close,\\n    start_p=1,\\n    start_q=1,\\n    test=\\\"adf\\\",\\n    max_p=9,\\n    max_q=9,\\n    m=1,  # frequency of series\\n    d=None,  # determine 'd'\\n    seasonal=False,  # no seasonality\\n    trace=True,\\n    stepwise=True,\\n)\";\n                var nbb_cells = Jupyter.notebook.get_cells();\n                for (var i = 0; i < nbb_cells.length; ++i) {\n                    if (nbb_cells[i].input_prompt_number == nbb_cell_id) {\n                        if (nbb_cells[i].get_text() == nbb_unformatted_code) {\n                             nbb_cells[i].set_text(nbb_formatted_code);\n                        }\n                        break;\n                    }\n                }\n            }, 500);\n            ",
      "text/plain": [
       "<IPython.core.display.Javascript object>"
      ]
     },
     "metadata": {},
     "output_type": "display_data"
    },
    {
     "data": {
      "application/javascript": "\n            setTimeout(function() {\n                var nbb_cell_id = 74;\n                var nbb_unformatted_code = \"model = auto_arima(\\n    df.Close,\\n    start_p=1,\\n    start_q=1,\\n    test=\\\"adf\\\",\\n    max_p=9,\\n    max_q=9,\\n    m=1,  # frequency of series\\n    d=None,  # determine 'd'\\n    seasonal=False,  # no seasonality\\n    trace=True,\\n    stepwise=True,\\n)\";\n                var nbb_formatted_code = \"model = auto_arima(\\n    df.Close,\\n    start_p=1,\\n    start_q=1,\\n    test=\\\"adf\\\",\\n    max_p=9,\\n    max_q=9,\\n    m=1,  # frequency of series\\n    d=None,  # determine 'd'\\n    seasonal=False,  # no seasonality\\n    trace=True,\\n    stepwise=True,\\n)\";\n                var nbb_cells = Jupyter.notebook.get_cells();\n                for (var i = 0; i < nbb_cells.length; ++i) {\n                    if (nbb_cells[i].input_prompt_number == nbb_cell_id) {\n                        if (nbb_cells[i].get_text() == nbb_unformatted_code) {\n                             nbb_cells[i].set_text(nbb_formatted_code);\n                        }\n                        break;\n                    }\n                }\n            }, 500);\n            ",
      "text/plain": [
       "<IPython.core.display.Javascript object>"
      ]
     },
     "metadata": {},
     "output_type": "display_data"
    },
    {
     "data": {
      "application/javascript": "\n            setTimeout(function() {\n                var nbb_cell_id = 74;\n                var nbb_unformatted_code = \"model = auto_arima(\\n    df.Close,\\n    start_p=1,\\n    start_q=1,\\n    test=\\\"adf\\\",\\n    max_p=9,\\n    max_q=9,\\n    m=1,  # frequency of series\\n    d=None,  # determine 'd'\\n    seasonal=False,  # no seasonality\\n    trace=True,\\n    stepwise=True,\\n)\";\n                var nbb_formatted_code = \"model = auto_arima(\\n    df.Close,\\n    start_p=1,\\n    start_q=1,\\n    test=\\\"adf\\\",\\n    max_p=9,\\n    max_q=9,\\n    m=1,  # frequency of series\\n    d=None,  # determine 'd'\\n    seasonal=False,  # no seasonality\\n    trace=True,\\n    stepwise=True,\\n)\";\n                var nbb_cells = Jupyter.notebook.get_cells();\n                for (var i = 0; i < nbb_cells.length; ++i) {\n                    if (nbb_cells[i].input_prompt_number == nbb_cell_id) {\n                        if (nbb_cells[i].get_text() == nbb_unformatted_code) {\n                             nbb_cells[i].set_text(nbb_formatted_code);\n                        }\n                        break;\n                    }\n                }\n            }, 500);\n            ",
      "text/plain": [
       "<IPython.core.display.Javascript object>"
      ]
     },
     "metadata": {},
     "output_type": "display_data"
    },
    {
     "data": {
      "application/javascript": "\n            setTimeout(function() {\n                var nbb_cell_id = 74;\n                var nbb_unformatted_code = \"model = auto_arima(\\n    df.Close,\\n    start_p=1,\\n    start_q=1,\\n    test=\\\"adf\\\",\\n    max_p=9,\\n    max_q=9,\\n    m=1,  # frequency of series\\n    d=None,  # determine 'd'\\n    seasonal=False,  # no seasonality\\n    trace=True,\\n    stepwise=True,\\n)\";\n                var nbb_formatted_code = \"model = auto_arima(\\n    df.Close,\\n    start_p=1,\\n    start_q=1,\\n    test=\\\"adf\\\",\\n    max_p=9,\\n    max_q=9,\\n    m=1,  # frequency of series\\n    d=None,  # determine 'd'\\n    seasonal=False,  # no seasonality\\n    trace=True,\\n    stepwise=True,\\n)\";\n                var nbb_cells = Jupyter.notebook.get_cells();\n                for (var i = 0; i < nbb_cells.length; ++i) {\n                    if (nbb_cells[i].input_prompt_number == nbb_cell_id) {\n                        if (nbb_cells[i].get_text() == nbb_unformatted_code) {\n                             nbb_cells[i].set_text(nbb_formatted_code);\n                        }\n                        break;\n                    }\n                }\n            }, 500);\n            ",
      "text/plain": [
       "<IPython.core.display.Javascript object>"
      ]
     },
     "metadata": {},
     "output_type": "display_data"
    }
   ],
   "source": [
    "model = auto_arima(\n",
    "    df.Close,\n",
    "    start_p=1,\n",
    "    start_q=1,\n",
    "    test=\"adf\",\n",
    "    max_p=9,\n",
    "    max_q=9,\n",
    "    m=1,  # frequency of series\n",
    "    d=None,  # determine 'd'\n",
    "    seasonal=False,  # no seasonality\n",
    "    trace=True,\n",
    "    stepwise=True,\n",
    ")"
   ]
  }
 ],
 "metadata": {
  "interpreter": {
   "hash": "2e8aaee198caa548ede517a93b391995d68c52a2f40daf3910801ad502059d88"
  },
  "kernelspec": {
   "display_name": "Python 3.6.13 64-bit ('PythonAdv': conda)",
   "language": "python",
   "name": "python3"
  },
  "language_info": {
   "codemirror_mode": {
    "name": "ipython",
    "version": 3
   },
   "file_extension": ".py",
   "mimetype": "text/x-python",
   "name": "python",
   "nbconvert_exporter": "python",
   "pygments_lexer": "ipython3",
   "version": "3.6.13"
  },
  "orig_nbformat": 4
 },
 "nbformat": 4,
 "nbformat_minor": 2
}
